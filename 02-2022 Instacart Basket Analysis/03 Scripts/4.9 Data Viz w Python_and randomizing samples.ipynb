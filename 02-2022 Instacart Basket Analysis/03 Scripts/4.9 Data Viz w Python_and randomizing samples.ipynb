{
 "cells": [
  {
   "cell_type": "markdown",
   "id": "be4f4356",
   "metadata": {},
   "source": [
    "# 01 Import libraries"
   ]
  },
  {
   "cell_type": "code",
   "execution_count": 1,
   "id": "7f66d018",
   "metadata": {},
   "outputs": [],
   "source": [
    "#import libraries\n",
    "import pandas as pd\n",
    "import numpy as np\n",
    "import os\n",
    "import matplotlib.pyplot as plt\n",
    "import seaborn as sns\n",
    "import scipy"
   ]
  },
  {
   "cell_type": "markdown",
   "id": "4b19820c",
   "metadata": {},
   "source": [
    "# 02 Import data"
   ]
  },
  {
   "cell_type": "code",
   "execution_count": 2,
   "id": "ee8600ed",
   "metadata": {},
   "outputs": [],
   "source": [
    "#create path\n",
    "path = r'C:\\Users\\erhil\\OneDrive\\Career Foundry Program\\Immersion Data Analytics Course\\A4 - Python Fundamentals for Data Analysts\\02-2022 Instacart Basket Analysis'"
   ]
  },
  {
   "cell_type": "code",
   "execution_count": 3,
   "id": "099dcc9d",
   "metadata": {},
   "outputs": [],
   "source": [
    "# import last ords_prods data\n",
    "df_opm=pd.read_pickle(os.path.join(path, '02 Data','Prepared Data', 'ords_prods_merged_4.pkl'))"
   ]
  },
  {
   "cell_type": "markdown",
   "id": "ecd51c37",
   "metadata": {},
   "source": [
    "# 03 Lesson Data Visualizations\n",
    "## a. Creating Bar Charts"
   ]
  },
  {
   "cell_type": "code",
   "execution_count": 4,
   "id": "0fa68d5f",
   "metadata": {},
   "outputs": [
    {
     "data": {
      "text/plain": [
       "<AxesSubplot:>"
      ]
     },
     "execution_count": 4,
     "metadata": {},
     "output_type": "execute_result"
    },
    {
     "data": {
      "image/png": "[encoded data removed]",
      "text/plain": [
       "<Figure size 432x288 with 1 Axes>"
      ]
     },
     "metadata": {
      "needs_background": "light"
     },
     "output_type": "display_data"
    }
   ],
   "source": [
    "#create bar graph of 'orders_day_of_week' frequencies\n",
    "df_opm['orders_day_of_week'].value_counts().plot.bar()"
   ]
  },
  {
   "cell_type": "code",
   "execution_count": 5,
   "id": "c032cc0d",
   "metadata": {},
   "outputs": [
    {
     "data": {
      "text/plain": [
       "<AxesSubplot:>"
      ]
     },
     "execution_count": 5,
     "metadata": {},
     "output_type": "execute_result"
    },
    {
     "data": {
      "image/png": "[encoded data removed]",
      "text/plain": [
       "<Figure size 432x288 with 1 Axes>"
      ]
     },
     "metadata": {
      "needs_background": "light"
     },
     "output_type": "display_data"
    }
   ],
   "source": [
    "#sorting by variable asc\n",
    "df_opm['orders_day_of_week'].value_counts().sort_index().plot.bar()"
   ]
  },
  {
   "cell_type": "code",
   "execution_count": 6,
   "id": "27ca7f5e",
   "metadata": {},
   "outputs": [
    {
     "data": {
      "text/plain": [
       "<AxesSubplot:>"
      ]
     },
     "execution_count": 6,
     "metadata": {},
     "output_type": "execute_result"
    },
    {
     "data": {
      "image/png": "[encoded data removed]",
      "text/plain": [
       "<Figure size 432x288 with 1 Axes>"
      ]
     },
     "metadata": {
      "needs_background": "light"
     },
     "output_type": "display_data"
    }
   ],
   "source": [
    "# adding color\n",
    "df_opm['orders_day_of_week'].value_counts().sort_index().plot.bar(color=['r', 'c', 'plum', 'mistyrose', 'blue', 'purple', 'black'])"
   ]
  },
  {
   "cell_type": "markdown",
   "id": "d0357152",
   "metadata": {},
   "source": [
    "### To export the chart:\n",
    "#### 1) give it a variable name"
   ]
  },
  {
   "cell_type": "code",
   "execution_count": 7,
   "id": "27b3eaf9",
   "metadata": {},
   "outputs": [
    {
     "data": {
      "image/png": "[encoded data removed]",
      "text/plain": [
       "<Figure size 432x288 with 1 Axes>"
      ]
     },
     "metadata": {
      "needs_background": "light"
     },
     "output_type": "display_data"
    }
   ],
   "source": [
    "# variable name for chart is exactly the command used to create, just name it! :)\n",
    "bar= df_opm['orders_day_of_week'].value_counts().sort_index().plot.bar(color=['r', 'c', 'plum', 'mistyrose', 'blue', 'purple', 'black'])"
   ]
  },
  {
   "cell_type": "markdown",
   "id": "6268894a",
   "metadata": {},
   "source": [
    "#### 2) export it using figure.savefig()"
   ]
  },
  {
   "cell_type": "code",
   "execution_count": 8,
   "id": "1ea14fc2",
   "metadata": {},
   "outputs": [],
   "source": [
    "bar.figure.savefig(os.path.join(path, '04 Analysis', 'Visualizations', 'bar_orders_dow.png'))"
   ]
  },
  {
   "cell_type": "markdown",
   "id": "66878054",
   "metadata": {},
   "source": [
    "## b. Creating Histograms"
   ]
  },
  {
   "cell_type": "code",
   "execution_count": 9,
   "id": "79d15ed6",
   "metadata": {},
   "outputs": [
    {
     "data": {
      "text/plain": [
       "<AxesSubplot:ylabel='Frequency'>"
      ]
     },
     "execution_count": 9,
     "metadata": {},
     "output_type": "execute_result"
    },
    {
     "data": {
      "image/png": "[encoded data removed]",
      "text/plain": [
       "<Figure size 432x288 with 1 Axes>"
      ]
     },
     "metadata": {
      "needs_background": "light"
     },
     "output_type": "display_data"
    }
   ],
   "source": [
    " df_opm['prices'].plot.hist(bins=25)"
   ]
  },
  {
   "cell_type": "code",
   "execution_count": 10,
   "id": "dbf7facb",
   "metadata": {},
   "outputs": [
    {
     "data": {
      "text/plain": [
       "count    3.240486e+07\n",
       "mean     1.198023e+01\n",
       "std      4.956554e+02\n",
       "min      1.000000e+00\n",
       "25%      4.200000e+00\n",
       "50%      7.400000e+00\n",
       "75%      1.130000e+01\n",
       "max      9.999900e+04\n",
       "Name: prices, dtype: float64"
      ]
     },
     "execution_count": 10,
     "metadata": {},
     "output_type": "execute_result"
    }
   ],
   "source": [
    "#what is up with histogram? \n",
    "df_opm['prices'].describe()"
   ]
  },
  {
   "cell_type": "code",
   "execution_count": 11,
   "id": "923bdea3",
   "metadata": {},
   "outputs": [],
   "source": [
    "#mean is 11.9, median is 7.4, min is 1, max is 99,999"
   ]
  },
  {
   "cell_type": "code",
   "execution_count": 12,
   "id": "9b8f82be",
   "metadata": {},
   "outputs": [
    {
     "data": {
      "text/plain": [
       "1.0        115143\n",
       "1.1        242782\n",
       "1.2        256258\n",
       "1.3        425691\n",
       "1.4        392209\n",
       "            ...  \n",
       "24.8          410\n",
       "24.9         5781\n",
       "25.0        13772\n",
       "14900.0      4429\n",
       "99999.0       698\n",
       "Name: prices, Length: 242, dtype: int64"
      ]
     },
     "execution_count": 12,
     "metadata": {},
     "output_type": "execute_result"
    }
   ],
   "source": [
    "# is the 99,999 just an oddball??\n",
    "df_opm['prices'].value_counts().sort_index()"
   ]
  },
  {
   "cell_type": "code",
   "execution_count": 13,
   "id": "fec40e90",
   "metadata": {},
   "outputs": [],
   "source": [
    "#look at 14,900 too!"
   ]
  },
  {
   "cell_type": "markdown",
   "id": "a8aa5e3d",
   "metadata": {},
   "source": [
    "## c. Creating scatterplots (seaborn)"
   ]
  },
  {
   "cell_type": "code",
   "execution_count": 14,
   "id": "bfb4416b",
   "metadata": {},
   "outputs": [
    {
     "data": {
      "text/plain": [
       "<AxesSubplot:xlabel='prices', ylabel='prices'>"
      ]
     },
     "execution_count": 14,
     "metadata": {},
     "output_type": "execute_result"
    },
    {
     "data": {
      "image/png": "[encoded data removed]",
      "text/plain": [
       "<Figure size 432x288 with 1 Axes>"
      ]
     },
     "metadata": {
      "needs_background": "light"
     },
     "output_type": "display_data"
    }
   ],
   "source": [
    "#run a scatterplot!\n",
    "sns.scatterplot(x='prices', y='prices', data=df_opm)"
   ]
  },
  {
   "cell_type": "code",
   "execution_count": 15,
   "id": "dbe8c9c5",
   "metadata": {},
   "outputs": [
    {
     "data": {
      "text/html": [
       "<div>\n",
       "<style scoped>\n",
       "    .dataframe tbody tr th:only-of-type {\n",
       "        vertical-align: middle;\n",
       "    }\n",
       "\n",
       "    .dataframe tbody tr th {\n",
       "        vertical-align: top;\n",
       "    }\n",
       "\n",
       "    .dataframe thead th {\n",
       "        text-align: right;\n",
       "    }\n",
       "</style>\n",
       "<table border=\"1\" class=\"dataframe\">\n",
       "  <thead>\n",
       "    <tr style=\"text-align: right;\">\n",
       "      <th></th>\n",
       "      <th>order_id</th>\n",
       "      <th>user_id</th>\n",
       "      <th>user_order_number</th>\n",
       "      <th>orders_day_of_week</th>\n",
       "      <th>order_hour_of_day</th>\n",
       "      <th>days_since_prior_order</th>\n",
       "      <th>product_id</th>\n",
       "      <th>add_to_cart_order</th>\n",
       "      <th>reordered</th>\n",
       "      <th>product_name</th>\n",
       "      <th>...</th>\n",
       "      <th>prices</th>\n",
       "      <th>price_range_loc</th>\n",
       "      <th>busiest_days</th>\n",
       "      <th>busiest_period_of_day</th>\n",
       "      <th>max_order</th>\n",
       "      <th>loyalty_flag</th>\n",
       "      <th>average_product_price</th>\n",
       "      <th>spending_flag</th>\n",
       "      <th>median_dspo</th>\n",
       "      <th>order_freq_flag</th>\n",
       "    </tr>\n",
       "  </thead>\n",
       "  <tbody>\n",
       "    <tr>\n",
       "      <th>10030345</th>\n",
       "      <td>912404</td>\n",
       "      <td>17</td>\n",
       "      <td>12</td>\n",
       "      <td>2</td>\n",
       "      <td>14</td>\n",
       "      <td>5.0</td>\n",
       "      <td>21553</td>\n",
       "      <td>5</td>\n",
       "      <td>0</td>\n",
       "      <td>Lowfat 2% Milkfat Cottage Cheese</td>\n",
       "      <td>...</td>\n",
       "      <td>14900.0</td>\n",
       "      <td>High-range product</td>\n",
       "      <td>regularly busy</td>\n",
       "      <td>busiest time</td>\n",
       "      <td>40</td>\n",
       "      <td>regular customer</td>\n",
       "      <td>108.648299</td>\n",
       "      <td>high spender</td>\n",
       "      <td>5.0</td>\n",
       "      <td>freq cust</td>\n",
       "    </tr>\n",
       "    <tr>\n",
       "      <th>10030346</th>\n",
       "      <td>603376</td>\n",
       "      <td>17</td>\n",
       "      <td>22</td>\n",
       "      <td>6</td>\n",
       "      <td>16</td>\n",
       "      <td>4.0</td>\n",
       "      <td>21553</td>\n",
       "      <td>3</td>\n",
       "      <td>1</td>\n",
       "      <td>Lowfat 2% Milkfat Cottage Cheese</td>\n",
       "      <td>...</td>\n",
       "      <td>14900.0</td>\n",
       "      <td>High-range product</td>\n",
       "      <td>regularly busy</td>\n",
       "      <td>regularly busy time</td>\n",
       "      <td>40</td>\n",
       "      <td>regular customer</td>\n",
       "      <td>108.648299</td>\n",
       "      <td>high spender</td>\n",
       "      <td>5.0</td>\n",
       "      <td>freq cust</td>\n",
       "    </tr>\n",
       "    <tr>\n",
       "      <th>10030347</th>\n",
       "      <td>3264360</td>\n",
       "      <td>135</td>\n",
       "      <td>2</td>\n",
       "      <td>2</td>\n",
       "      <td>21</td>\n",
       "      <td>13.0</td>\n",
       "      <td>21553</td>\n",
       "      <td>6</td>\n",
       "      <td>0</td>\n",
       "      <td>Lowfat 2% Milkfat Cottage Cheese</td>\n",
       "      <td>...</td>\n",
       "      <td>14900.0</td>\n",
       "      <td>High-range product</td>\n",
       "      <td>regularly busy</td>\n",
       "      <td>regularly busy time</td>\n",
       "      <td>4</td>\n",
       "      <td>new customer</td>\n",
       "      <td>1154.792308</td>\n",
       "      <td>high spender</td>\n",
       "      <td>12.0</td>\n",
       "      <td>reg cust</td>\n",
       "    </tr>\n",
       "    <tr>\n",
       "      <th>10030348</th>\n",
       "      <td>892534</td>\n",
       "      <td>135</td>\n",
       "      <td>3</td>\n",
       "      <td>0</td>\n",
       "      <td>8</td>\n",
       "      <td>12.0</td>\n",
       "      <td>21553</td>\n",
       "      <td>3</td>\n",
       "      <td>1</td>\n",
       "      <td>Lowfat 2% Milkfat Cottage Cheese</td>\n",
       "      <td>...</td>\n",
       "      <td>14900.0</td>\n",
       "      <td>High-range product</td>\n",
       "      <td>busiest day</td>\n",
       "      <td>regularly busy time</td>\n",
       "      <td>4</td>\n",
       "      <td>new customer</td>\n",
       "      <td>1154.792308</td>\n",
       "      <td>high spender</td>\n",
       "      <td>12.0</td>\n",
       "      <td>reg cust</td>\n",
       "    </tr>\n",
       "    <tr>\n",
       "      <th>10030349</th>\n",
       "      <td>229704</td>\n",
       "      <td>342</td>\n",
       "      <td>8</td>\n",
       "      <td>1</td>\n",
       "      <td>19</td>\n",
       "      <td>30.0</td>\n",
       "      <td>21553</td>\n",
       "      <td>9</td>\n",
       "      <td>0</td>\n",
       "      <td>Lowfat 2% Milkfat Cottage Cheese</td>\n",
       "      <td>...</td>\n",
       "      <td>14900.0</td>\n",
       "      <td>High-range product</td>\n",
       "      <td>busiest day</td>\n",
       "      <td>regularly busy time</td>\n",
       "      <td>16</td>\n",
       "      <td>regular customer</td>\n",
       "      <td>114.426619</td>\n",
       "      <td>high spender</td>\n",
       "      <td>23.0</td>\n",
       "      <td>non-freq cust</td>\n",
       "    </tr>\n",
       "    <tr>\n",
       "      <th>...</th>\n",
       "      <td>...</td>\n",
       "      <td>...</td>\n",
       "      <td>...</td>\n",
       "      <td>...</td>\n",
       "      <td>...</td>\n",
       "      <td>...</td>\n",
       "      <td>...</td>\n",
       "      <td>...</td>\n",
       "      <td>...</td>\n",
       "      <td>...</td>\n",
       "      <td>...</td>\n",
       "      <td>...</td>\n",
       "      <td>...</td>\n",
       "      <td>...</td>\n",
       "      <td>...</td>\n",
       "      <td>...</td>\n",
       "      <td>...</td>\n",
       "      <td>...</td>\n",
       "      <td>...</td>\n",
       "      <td>...</td>\n",
       "      <td>...</td>\n",
       "    </tr>\n",
       "    <tr>\n",
       "      <th>29166209</th>\n",
       "      <td>2249946</td>\n",
       "      <td>204099</td>\n",
       "      <td>29</td>\n",
       "      <td>0</td>\n",
       "      <td>8</td>\n",
       "      <td>4.0</td>\n",
       "      <td>33664</td>\n",
       "      <td>1</td>\n",
       "      <td>0</td>\n",
       "      <td>2 % Reduced Fat  Milk</td>\n",
       "      <td>...</td>\n",
       "      <td>99999.0</td>\n",
       "      <td>High-range product</td>\n",
       "      <td>busiest day</td>\n",
       "      <td>regularly busy time</td>\n",
       "      <td>39</td>\n",
       "      <td>regular customer</td>\n",
       "      <td>1106.743956</td>\n",
       "      <td>high spender</td>\n",
       "      <td>4.0</td>\n",
       "      <td>freq cust</td>\n",
       "    </tr>\n",
       "    <tr>\n",
       "      <th>29166210</th>\n",
       "      <td>2363282</td>\n",
       "      <td>204099</td>\n",
       "      <td>31</td>\n",
       "      <td>0</td>\n",
       "      <td>9</td>\n",
       "      <td>2.0</td>\n",
       "      <td>33664</td>\n",
       "      <td>1</td>\n",
       "      <td>1</td>\n",
       "      <td>2 % Reduced Fat  Milk</td>\n",
       "      <td>...</td>\n",
       "      <td>99999.0</td>\n",
       "      <td>High-range product</td>\n",
       "      <td>busiest day</td>\n",
       "      <td>regularly busy time</td>\n",
       "      <td>39</td>\n",
       "      <td>regular customer</td>\n",
       "      <td>1106.743956</td>\n",
       "      <td>high spender</td>\n",
       "      <td>4.0</td>\n",
       "      <td>freq cust</td>\n",
       "    </tr>\n",
       "    <tr>\n",
       "      <th>29166211</th>\n",
       "      <td>3181945</td>\n",
       "      <td>204395</td>\n",
       "      <td>13</td>\n",
       "      <td>3</td>\n",
       "      <td>15</td>\n",
       "      <td>8.0</td>\n",
       "      <td>33664</td>\n",
       "      <td>25</td>\n",
       "      <td>0</td>\n",
       "      <td>2 % Reduced Fat  Milk</td>\n",
       "      <td>...</td>\n",
       "      <td>99999.0</td>\n",
       "      <td>High-range product</td>\n",
       "      <td>least busy</td>\n",
       "      <td>busiest time</td>\n",
       "      <td>15</td>\n",
       "      <td>regular customer</td>\n",
       "      <td>451.153540</td>\n",
       "      <td>high spender</td>\n",
       "      <td>5.0</td>\n",
       "      <td>freq cust</td>\n",
       "    </tr>\n",
       "    <tr>\n",
       "      <th>29166212</th>\n",
       "      <td>2486215</td>\n",
       "      <td>205227</td>\n",
       "      <td>7</td>\n",
       "      <td>3</td>\n",
       "      <td>20</td>\n",
       "      <td>4.0</td>\n",
       "      <td>33664</td>\n",
       "      <td>8</td>\n",
       "      <td>0</td>\n",
       "      <td>2 % Reduced Fat  Milk</td>\n",
       "      <td>...</td>\n",
       "      <td>99999.0</td>\n",
       "      <td>High-range product</td>\n",
       "      <td>least busy</td>\n",
       "      <td>regularly busy time</td>\n",
       "      <td>12</td>\n",
       "      <td>regular customer</td>\n",
       "      <td>1178.381871</td>\n",
       "      <td>high spender</td>\n",
       "      <td>12.0</td>\n",
       "      <td>reg cust</td>\n",
       "    </tr>\n",
       "    <tr>\n",
       "      <th>29166213</th>\n",
       "      <td>2232716</td>\n",
       "      <td>205227</td>\n",
       "      <td>10</td>\n",
       "      <td>0</td>\n",
       "      <td>11</td>\n",
       "      <td>4.0</td>\n",
       "      <td>33664</td>\n",
       "      <td>23</td>\n",
       "      <td>1</td>\n",
       "      <td>2 % Reduced Fat  Milk</td>\n",
       "      <td>...</td>\n",
       "      <td>99999.0</td>\n",
       "      <td>High-range product</td>\n",
       "      <td>busiest day</td>\n",
       "      <td>busiest time</td>\n",
       "      <td>12</td>\n",
       "      <td>regular customer</td>\n",
       "      <td>1178.381871</td>\n",
       "      <td>high spender</td>\n",
       "      <td>12.0</td>\n",
       "      <td>reg cust</td>\n",
       "    </tr>\n",
       "  </tbody>\n",
       "</table>\n",
       "<p>5127 rows × 22 columns</p>\n",
       "</div>"
      ],
      "text/plain": [
       "          order_id  user_id  user_order_number  orders_day_of_week  \\\n",
       "10030345    912404       17                 12                   2   \n",
       "10030346    603376       17                 22                   6   \n",
       "10030347   3264360      135                  2                   2   \n",
       "10030348    892534      135                  3                   0   \n",
       "10030349    229704      342                  8                   1   \n",
       "...            ...      ...                ...                 ...   \n",
       "29166209   2249946   204099                 29                   0   \n",
       "29166210   2363282   204099                 31                   0   \n",
       "29166211   3181945   204395                 13                   3   \n",
       "29166212   2486215   205227                  7                   3   \n",
       "29166213   2232716   205227                 10                   0   \n",
       "\n",
       "          order_hour_of_day  days_since_prior_order  product_id  \\\n",
       "10030345                 14                     5.0       21553   \n",
       "10030346                 16                     4.0       21553   \n",
       "10030347                 21                    13.0       21553   \n",
       "10030348                  8                    12.0       21553   \n",
       "10030349                 19                    30.0       21553   \n",
       "...                     ...                     ...         ...   \n",
       "29166209                  8                     4.0       33664   \n",
       "29166210                  9                     2.0       33664   \n",
       "29166211                 15                     8.0       33664   \n",
       "29166212                 20                     4.0       33664   \n",
       "29166213                 11                     4.0       33664   \n",
       "\n",
       "          add_to_cart_order  reordered                      product_name  ...  \\\n",
       "10030345                  5          0  Lowfat 2% Milkfat Cottage Cheese  ...   \n",
       "10030346                  3          1  Lowfat 2% Milkfat Cottage Cheese  ...   \n",
       "10030347                  6          0  Lowfat 2% Milkfat Cottage Cheese  ...   \n",
       "10030348                  3          1  Lowfat 2% Milkfat Cottage Cheese  ...   \n",
       "10030349                  9          0  Lowfat 2% Milkfat Cottage Cheese  ...   \n",
       "...                     ...        ...                               ...  ...   \n",
       "29166209                  1          0             2 % Reduced Fat  Milk  ...   \n",
       "29166210                  1          1             2 % Reduced Fat  Milk  ...   \n",
       "29166211                 25          0             2 % Reduced Fat  Milk  ...   \n",
       "29166212                  8          0             2 % Reduced Fat  Milk  ...   \n",
       "29166213                 23          1             2 % Reduced Fat  Milk  ...   \n",
       "\n",
       "           prices     price_range_loc    busiest_days busiest_period_of_day  \\\n",
       "10030345  14900.0  High-range product  regularly busy          busiest time   \n",
       "10030346  14900.0  High-range product  regularly busy   regularly busy time   \n",
       "10030347  14900.0  High-range product  regularly busy   regularly busy time   \n",
       "10030348  14900.0  High-range product     busiest day   regularly busy time   \n",
       "10030349  14900.0  High-range product     busiest day   regularly busy time   \n",
       "...           ...                 ...             ...                   ...   \n",
       "29166209  99999.0  High-range product     busiest day   regularly busy time   \n",
       "29166210  99999.0  High-range product     busiest day   regularly busy time   \n",
       "29166211  99999.0  High-range product      least busy          busiest time   \n",
       "29166212  99999.0  High-range product      least busy   regularly busy time   \n",
       "29166213  99999.0  High-range product     busiest day          busiest time   \n",
       "\n",
       "         max_order      loyalty_flag  average_product_price spending_flag  \\\n",
       "10030345        40  regular customer             108.648299  high spender   \n",
       "10030346        40  regular customer             108.648299  high spender   \n",
       "10030347         4      new customer            1154.792308  high spender   \n",
       "10030348         4      new customer            1154.792308  high spender   \n",
       "10030349        16  regular customer             114.426619  high spender   \n",
       "...            ...               ...                    ...           ...   \n",
       "29166209        39  regular customer            1106.743956  high spender   \n",
       "29166210        39  regular customer            1106.743956  high spender   \n",
       "29166211        15  regular customer             451.153540  high spender   \n",
       "29166212        12  regular customer            1178.381871  high spender   \n",
       "29166213        12  regular customer            1178.381871  high spender   \n",
       "\n",
       "          median_dspo order_freq_flag  \n",
       "10030345          5.0       freq cust  \n",
       "10030346          5.0       freq cust  \n",
       "10030347         12.0        reg cust  \n",
       "10030348         12.0        reg cust  \n",
       "10030349         23.0   non-freq cust  \n",
       "...               ...             ...  \n",
       "29166209          4.0       freq cust  \n",
       "29166210          4.0       freq cust  \n",
       "29166211          5.0       freq cust  \n",
       "29166212         12.0        reg cust  \n",
       "29166213         12.0        reg cust  \n",
       "\n",
       "[5127 rows x 22 columns]"
      ]
     },
     "execution_count": 15,
     "metadata": {},
     "output_type": "execute_result"
    }
   ],
   "source": [
    "# filtering values to see what is going on here\n",
    "df_opm.loc[df_opm['prices']>100]\n",
    "#OMG cottage cheese is $14,900 and 2% milk is $99,999"
   ]
  },
  {
   "cell_type": "code",
   "execution_count": 16,
   "id": "ca86b2ca",
   "metadata": {},
   "outputs": [],
   "source": [
    "df_opm.loc[df_opm['prices']>100,'prices']=np.nan"
   ]
  },
  {
   "cell_type": "code",
   "execution_count": 17,
   "id": "dc8393cd",
   "metadata": {},
   "outputs": [
    {
     "data": {
      "text/plain": [
       "25.0"
      ]
     },
     "execution_count": 17,
     "metadata": {},
     "output_type": "execute_result"
    }
   ],
   "source": [
    "df_opm['prices'].max()"
   ]
  },
  {
   "cell_type": "markdown",
   "id": "99ba4c66",
   "metadata": {},
   "source": [
    "# Histograms, cont'd"
   ]
  },
  {
   "cell_type": "code",
   "execution_count": 18,
   "id": "50f90753",
   "metadata": {},
   "outputs": [
    {
     "data": {
      "image/png": "[encoded data removed]",
      "text/plain": [
       "<Figure size 432x288 with 1 Axes>"
      ]
     },
     "metadata": {
      "needs_background": "light"
     },
     "output_type": "display_data"
    }
   ],
   "source": [
    "hist=df_opm['prices'].plot.hist(bins=25)"
   ]
  },
  {
   "cell_type": "code",
   "execution_count": 19,
   "id": "8b87ba1e",
   "metadata": {},
   "outputs": [
    {
     "data": {
      "image/png": "[encoded data removed]",
      "text/plain": [
       "<Figure size 432x288 with 1 Axes>"
      ]
     },
     "metadata": {
      "needs_background": "light"
     },
     "output_type": "display_data"
    }
   ],
   "source": [
    "hist_2=df_opm['prices'].plot.hist(bins=70)"
   ]
  },
  {
   "cell_type": "code",
   "execution_count": 20,
   "id": "899dcca6",
   "metadata": {},
   "outputs": [],
   "source": [
    "#export histograms\n",
    "hist.figure.savefig(os.path.join(path, '04 Analysis', 'Visualizations', 'hist_prices.png'))\n",
    "hist_2.figure.savefig(os.path.join(path, '04 Analysis', 'Visualizations', 'hist_2_prices.png'))"
   ]
  },
  {
   "cell_type": "code",
   "execution_count": 21,
   "id": "cdcc879d",
   "metadata": {},
   "outputs": [],
   "source": [
    "#define a subset of the dataframe that is just the first 2,000,000 records\n",
    "df=df_opm[:2000000]"
   ]
  },
  {
   "cell_type": "markdown",
   "id": "fd949393",
   "metadata": {},
   "source": [
    "\n",
    "# d. Randomizing samples (for line plot)"
   ]
  },
  {
   "cell_type": "code",
   "execution_count": 22,
   "id": "11dd4bc7",
   "metadata": {},
   "outputs": [],
   "source": [
    "#set randomizing seed to have the ability to reproduce same sample\n",
    "#set a variable to represent all random values less than or equal to 0.7\n",
    "np.random.seed(10)\n",
    "dev = np.random.rand(len(df_opm)) <=0.7"
   ]
  },
  {
   "cell_type": "code",
   "execution_count": 23,
   "id": "ecf82da2",
   "metadata": {},
   "outputs": [],
   "source": [
    "# store 70% of sample in dataframe 'big'\n",
    "big=df_opm[dev]"
   ]
  },
  {
   "cell_type": "code",
   "execution_count": 24,
   "id": "2edd2ebd",
   "metadata": {},
   "outputs": [],
   "source": [
    "# store remaining 30% of sample in dataframe 'small'\n",
    "small=df_opm[~dev]"
   ]
  },
  {
   "cell_type": "code",
   "execution_count": 25,
   "id": "e7ca4149",
   "metadata": {},
   "outputs": [
    {
     "data": {
      "text/plain": [
       "32404859"
      ]
     },
     "execution_count": 25,
     "metadata": {},
     "output_type": "execute_result"
    }
   ],
   "source": [
    "# check length of overall df\n",
    "len(df_opm)"
   ]
  },
  {
   "cell_type": "code",
   "execution_count": 26,
   "id": "f8622560",
   "metadata": {},
   "outputs": [
    {
     "data": {
      "text/plain": [
       "32404859"
      ]
     },
     "execution_count": 26,
     "metadata": {},
     "output_type": "execute_result"
    }
   ],
   "source": [
    "# check the length of both sample dataframes\n",
    "len(big)+len(small)"
   ]
  },
  {
   "cell_type": "code",
   "execution_count": 27,
   "id": "76ee0b49",
   "metadata": {},
   "outputs": [
    {
     "data": {
      "text/plain": [
       "22679483"
      ]
     },
     "execution_count": 27,
     "metadata": {},
     "output_type": "execute_result"
    }
   ],
   "source": [
    "len(big)"
   ]
  },
  {
   "cell_type": "code",
   "execution_count": 28,
   "id": "442380ee",
   "metadata": {},
   "outputs": [
    {
     "data": {
      "text/plain": [
       "9725376"
      ]
     },
     "execution_count": 28,
     "metadata": {},
     "output_type": "execute_result"
    }
   ],
   "source": [
    "len(small)"
   ]
  },
  {
   "cell_type": "code",
   "execution_count": 29,
   "id": "3045ff5e",
   "metadata": {},
   "outputs": [],
   "source": [
    "#define a dataframe with only the small sample and 2 columns/variables needed\n",
    "df_2 = small[['orders_day_of_week', 'prices']]"
   ]
  },
  {
   "cell_type": "markdown",
   "id": "475f3075",
   "metadata": {},
   "source": [
    "# Creating Line Graph"
   ]
  },
  {
   "cell_type": "code",
   "execution_count": 30,
   "id": "d2f785a3",
   "metadata": {},
   "outputs": [
    {
     "data": {
      "image/png": "[encoded data removed]",
      "text/plain": [
       "<Figure size 432x288 with 1 Axes>"
      ]
     },
     "metadata": {
      "needs_background": "light"
     },
     "output_type": "display_data"
    }
   ],
   "source": [
    "line= sns.lineplot(data = df_2, x = 'orders_day_of_week', y = 'prices')"
   ]
  },
  {
   "cell_type": "code",
   "execution_count": 31,
   "id": "6ce07e4b",
   "metadata": {},
   "outputs": [
    {
     "data": {
      "text/plain": [
       "orders_day_of_week\n",
       "0    7.858311\n",
       "1    7.758702\n",
       "2    7.755651\n",
       "3    7.755134\n",
       "4    7.757428\n",
       "5    7.759672\n",
       "6    7.852828\n",
       "Name: prices, dtype: float64"
      ]
     },
     "execution_count": 31,
     "metadata": {},
     "output_type": "execute_result"
    }
   ],
   "source": [
    "df_2.groupby('orders_day_of_week')['prices'].mean()"
   ]
  },
  {
   "cell_type": "code",
   "execution_count": 32,
   "id": "f463b730",
   "metadata": {},
   "outputs": [],
   "source": [
    "df_4 = big[['orders_day_of_week', 'prices']]"
   ]
  },
  {
   "cell_type": "code",
   "execution_count": 33,
   "id": "cfd17172",
   "metadata": {},
   "outputs": [
    {
     "data": {
      "image/png": "[encoded data removed]",
      "text/plain": [
       "<Figure size 432x288 with 1 Axes>"
      ]
     },
     "metadata": {
      "needs_background": "light"
     },
     "output_type": "display_data"
    }
   ],
   "source": [
    "line_2=sns.lineplot(data = df_4, x = 'orders_day_of_week', y = 'prices')"
   ]
  },
  {
   "cell_type": "code",
   "execution_count": 34,
   "id": "a2759e17",
   "metadata": {},
   "outputs": [],
   "source": [
    "#export line graphs 30%\n",
    "line.figure.savefig(os.path.join(path, '04 Analysis', 'Visualizations', 'line_orders_dow_30percent.png'))"
   ]
  },
  {
   "cell_type": "code",
   "execution_count": 35,
   "id": "b4bb45a0",
   "metadata": {},
   "outputs": [],
   "source": [
    "#export line graph 70%\n",
    "line_2.figure.savefig(os.path.join(path, '04 Analysis', 'Visualizations', 'line_orders_dow_70percent.png'))"
   ]
  },
  {
   "cell_type": "code",
   "execution_count": null,
   "id": "bed0eba2",
   "metadata": {},
   "outputs": [],
   "source": []
  }
 ],
 "metadata": {
  "kernelspec": {
   "display_name": "Python 3 (ipykernel)",
   "language": "python",
   "name": "python3"
  },
  "language_info": {
   "codemirror_mode": {
    "name": "ipython",
    "version": 3
   },
   "file_extension": ".py",
   "mimetype": "text/x-python",
   "name": "python",
   "nbconvert_exporter": "python",
   "pygments_lexer": "ipython3",
   "version": "3.9.7"
  }
 },
 "nbformat": 4,
 "nbformat_minor": 5
}
