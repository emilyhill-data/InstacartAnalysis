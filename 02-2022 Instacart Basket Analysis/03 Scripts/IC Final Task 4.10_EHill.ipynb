{
 "cells": [
  {
   "cell_type": "markdown",
   "id": "493afb81",
   "metadata": {},
   "source": [
    "# Instacart Final Project Notebook\n",
    "## 01 Import Libraries\n",
    "## 02 Import Data\n",
    "## 03 Address Security Implications (PII)\n",
    "## 04 Compare Customer Data within Geographic Locations\n",
    "### A. Create Region Variable\n",
    "### B. Create Crosstab - Regions & SpendFlag\n",
    "## 05 Create Exclusion Flag for Low Activity Customers\n",
    "### A. Create Exclusion Variable\n",
    "### B. Create a Dataframe Excluding Low Activity Customers\n",
    "### C. Export New Dataframe\n",
    "## 06 Import Departments Data and Merge\n",
    "## 07 Create Profiling Variables\n",
    "### A. Profiling variable by Generation (Age)\n",
    "#### - Visualization\n",
    "#### - min/max/mean (prices & order number)\n",
    "### B. Profiling variable by Income Class (income, dependants, & fam_status)¶\n",
    "#### - Visualization\n",
    "#### - min/max/mean (prices & order number)\n",
    "## 08 Further Analysis to Complete Project"
   ]
  },
  {
   "cell_type": "markdown",
   "id": "85c30c90",
   "metadata": {},
   "source": [
    "# 01 Import Libraries"
   ]
  },
  {
   "cell_type": "code",
   "execution_count": 1,
   "id": "b56e5fbb",
   "metadata": {},
   "outputs": [],
   "source": [
    "# import libraries\n",
    "import pandas as pd\n",
    "import numpy as np\n",
    "import os\n",
    "import matplotlib.pyplot as plt\n",
    "import seaborn as sns\n",
    "import scipy"
   ]
  },
  {
   "cell_type": "markdown",
   "id": "bf33c81d",
   "metadata": {},
   "source": [
    "# 02 Import Data"
   ]
  },
  {
   "cell_type": "code",
   "execution_count": 2,
   "id": "729f7a6f",
   "metadata": {},
   "outputs": [],
   "source": [
    "#create path\n",
    "path = r'C:\\Users\\erhil\\OneDrive\\Career Foundry Program\\Immersion Data Analytics Course\\A4 - Python Fundamentals for Data Analysts\\02-2022 Instacart Basket Analysis'"
   ]
  },
  {
   "cell_type": "code",
   "execution_count": 3,
   "id": "c43c5d42",
   "metadata": {},
   "outputs": [],
   "source": [
    "#import ords_prods_all data\n",
    "df=pd.read_pickle(os.path.join(path,'02 Data', 'Prepared Data', 'ords_prods_all2.pkl'))"
   ]
  },
  {
   "cell_type": "markdown",
   "id": "6fecf848",
   "metadata": {},
   "source": [
    "# 03 Address Security Implications (PII)"
   ]
  },
  {
   "cell_type": "code",
   "execution_count": 4,
   "id": "54175e7f",
   "metadata": {},
   "outputs": [
    {
     "data": {
      "text/html": [
       "<div>\n",
       "<style scoped>\n",
       "    .dataframe tbody tr th:only-of-type {\n",
       "        vertical-align: middle;\n",
       "    }\n",
       "\n",
       "    .dataframe tbody tr th {\n",
       "        vertical-align: top;\n",
       "    }\n",
       "\n",
       "    .dataframe thead th {\n",
       "        text-align: right;\n",
       "    }\n",
       "</style>\n",
       "<table border=\"1\" class=\"dataframe\">\n",
       "  <thead>\n",
       "    <tr style=\"text-align: right;\">\n",
       "      <th></th>\n",
       "      <th>order_id</th>\n",
       "      <th>user_id</th>\n",
       "      <th>user_order_number</th>\n",
       "      <th>orders_day_of_week</th>\n",
       "      <th>order_hour_of_day</th>\n",
       "      <th>days_since_prior_order</th>\n",
       "      <th>product_id</th>\n",
       "      <th>add_to_cart_order</th>\n",
       "      <th>reordered</th>\n",
       "      <th>product_name</th>\n",
       "      <th>...</th>\n",
       "      <th>First Name</th>\n",
       "      <th>Last Name</th>\n",
       "      <th>Gender</th>\n",
       "      <th>STATE</th>\n",
       "      <th>Age</th>\n",
       "      <th>date_joined</th>\n",
       "      <th>n_dependants</th>\n",
       "      <th>fam_status</th>\n",
       "      <th>income</th>\n",
       "      <th>_merge</th>\n",
       "    </tr>\n",
       "  </thead>\n",
       "  <tbody>\n",
       "    <tr>\n",
       "      <th>0</th>\n",
       "      <td>2539329</td>\n",
       "      <td>1</td>\n",
       "      <td>1</td>\n",
       "      <td>2</td>\n",
       "      <td>8</td>\n",
       "      <td>NaN</td>\n",
       "      <td>196</td>\n",
       "      <td>1</td>\n",
       "      <td>0</td>\n",
       "      <td>Soda</td>\n",
       "      <td>...</td>\n",
       "      <td>Linda</td>\n",
       "      <td>Nguyen</td>\n",
       "      <td>Female</td>\n",
       "      <td>Alabama</td>\n",
       "      <td>31</td>\n",
       "      <td>2/17/2019</td>\n",
       "      <td>3</td>\n",
       "      <td>married</td>\n",
       "      <td>40423</td>\n",
       "      <td>both</td>\n",
       "    </tr>\n",
       "    <tr>\n",
       "      <th>1</th>\n",
       "      <td>2398795</td>\n",
       "      <td>1</td>\n",
       "      <td>2</td>\n",
       "      <td>3</td>\n",
       "      <td>7</td>\n",
       "      <td>15.0</td>\n",
       "      <td>196</td>\n",
       "      <td>1</td>\n",
       "      <td>1</td>\n",
       "      <td>Soda</td>\n",
       "      <td>...</td>\n",
       "      <td>Linda</td>\n",
       "      <td>Nguyen</td>\n",
       "      <td>Female</td>\n",
       "      <td>Alabama</td>\n",
       "      <td>31</td>\n",
       "      <td>2/17/2019</td>\n",
       "      <td>3</td>\n",
       "      <td>married</td>\n",
       "      <td>40423</td>\n",
       "      <td>both</td>\n",
       "    </tr>\n",
       "    <tr>\n",
       "      <th>2</th>\n",
       "      <td>473747</td>\n",
       "      <td>1</td>\n",
       "      <td>3</td>\n",
       "      <td>3</td>\n",
       "      <td>12</td>\n",
       "      <td>21.0</td>\n",
       "      <td>196</td>\n",
       "      <td>1</td>\n",
       "      <td>1</td>\n",
       "      <td>Soda</td>\n",
       "      <td>...</td>\n",
       "      <td>Linda</td>\n",
       "      <td>Nguyen</td>\n",
       "      <td>Female</td>\n",
       "      <td>Alabama</td>\n",
       "      <td>31</td>\n",
       "      <td>2/17/2019</td>\n",
       "      <td>3</td>\n",
       "      <td>married</td>\n",
       "      <td>40423</td>\n",
       "      <td>both</td>\n",
       "    </tr>\n",
       "    <tr>\n",
       "      <th>3</th>\n",
       "      <td>2254736</td>\n",
       "      <td>1</td>\n",
       "      <td>4</td>\n",
       "      <td>4</td>\n",
       "      <td>7</td>\n",
       "      <td>29.0</td>\n",
       "      <td>196</td>\n",
       "      <td>1</td>\n",
       "      <td>1</td>\n",
       "      <td>Soda</td>\n",
       "      <td>...</td>\n",
       "      <td>Linda</td>\n",
       "      <td>Nguyen</td>\n",
       "      <td>Female</td>\n",
       "      <td>Alabama</td>\n",
       "      <td>31</td>\n",
       "      <td>2/17/2019</td>\n",
       "      <td>3</td>\n",
       "      <td>married</td>\n",
       "      <td>40423</td>\n",
       "      <td>both</td>\n",
       "    </tr>\n",
       "    <tr>\n",
       "      <th>4</th>\n",
       "      <td>431534</td>\n",
       "      <td>1</td>\n",
       "      <td>5</td>\n",
       "      <td>4</td>\n",
       "      <td>15</td>\n",
       "      <td>28.0</td>\n",
       "      <td>196</td>\n",
       "      <td>1</td>\n",
       "      <td>1</td>\n",
       "      <td>Soda</td>\n",
       "      <td>...</td>\n",
       "      <td>Linda</td>\n",
       "      <td>Nguyen</td>\n",
       "      <td>Female</td>\n",
       "      <td>Alabama</td>\n",
       "      <td>31</td>\n",
       "      <td>2/17/2019</td>\n",
       "      <td>3</td>\n",
       "      <td>married</td>\n",
       "      <td>40423</td>\n",
       "      <td>both</td>\n",
       "    </tr>\n",
       "  </tbody>\n",
       "</table>\n",
       "<p>5 rows × 32 columns</p>\n",
       "</div>"
      ],
      "text/plain": [
       "   order_id  user_id  user_order_number  orders_day_of_week  \\\n",
       "0   2539329        1                  1                   2   \n",
       "1   2398795        1                  2                   3   \n",
       "2    473747        1                  3                   3   \n",
       "3   2254736        1                  4                   4   \n",
       "4    431534        1                  5                   4   \n",
       "\n",
       "   order_hour_of_day  days_since_prior_order  product_id  add_to_cart_order  \\\n",
       "0                  8                     NaN         196                  1   \n",
       "1                  7                    15.0         196                  1   \n",
       "2                 12                    21.0         196                  1   \n",
       "3                  7                    29.0         196                  1   \n",
       "4                 15                    28.0         196                  1   \n",
       "\n",
       "   reordered product_name  ...  First Name  Last Name  Gender    STATE Age  \\\n",
       "0          0         Soda  ...       Linda     Nguyen  Female  Alabama  31   \n",
       "1          1         Soda  ...       Linda     Nguyen  Female  Alabama  31   \n",
       "2          1         Soda  ...       Linda     Nguyen  Female  Alabama  31   \n",
       "3          1         Soda  ...       Linda     Nguyen  Female  Alabama  31   \n",
       "4          1         Soda  ...       Linda     Nguyen  Female  Alabama  31   \n",
       "\n",
       "  date_joined  n_dependants fam_status  income _merge  \n",
       "0   2/17/2019             3    married   40423   both  \n",
       "1   2/17/2019             3    married   40423   both  \n",
       "2   2/17/2019             3    married   40423   both  \n",
       "3   2/17/2019             3    married   40423   both  \n",
       "4   2/17/2019             3    married   40423   both  \n",
       "\n",
       "[5 rows x 32 columns]"
      ]
     },
     "execution_count": 4,
     "metadata": {},
     "output_type": "execute_result"
    }
   ],
   "source": [
    "df.head()"
   ]
  },
  {
   "cell_type": "code",
   "execution_count": 5,
   "id": "79257c03",
   "metadata": {},
   "outputs": [
    {
     "data": {
      "text/plain": [
       "(32404859, 32)"
      ]
     },
     "execution_count": 5,
     "metadata": {},
     "output_type": "execute_result"
    }
   ],
   "source": [
    "df.shape"
   ]
  },
  {
   "cell_type": "code",
   "execution_count": 6,
   "id": "7cf48fb8",
   "metadata": {},
   "outputs": [
    {
     "data": {
      "text/plain": [
       "Index(['order_id', 'user_id', 'user_order_number', 'orders_day_of_week',\n",
       "       'order_hour_of_day', 'days_since_prior_order', 'product_id',\n",
       "       'add_to_cart_order', 'reordered', 'product_name', 'aisle_id',\n",
       "       'department_id', 'prices', 'price_range_loc', 'busiest_days',\n",
       "       'busiest_period_of_day', 'max_order', 'loyalty_flag',\n",
       "       'average_product_price', 'spending_flag', 'median_dspo',\n",
       "       'order_freq_flag', 'First Name', 'Last Name', 'Gender', 'STATE', 'Age',\n",
       "       'date_joined', 'n_dependants', 'fam_status', 'income', '_merge'],\n",
       "      dtype='object')"
      ]
     },
     "execution_count": 6,
     "metadata": {},
     "output_type": "execute_result"
    }
   ],
   "source": [
    "df.columns"
   ]
  },
  {
   "cell_type": "code",
   "execution_count": 7,
   "id": "0c120543",
   "metadata": {},
   "outputs": [],
   "source": [
    "df1=df.drop(columns=['_merge','First Name', 'Last Name'])"
   ]
  },
  {
   "cell_type": "code",
   "execution_count": 8,
   "id": "5a0fe1a4",
   "metadata": {},
   "outputs": [
    {
     "data": {
      "text/plain": [
       "(32404859, 29)"
      ]
     },
     "execution_count": 8,
     "metadata": {},
     "output_type": "execute_result"
    }
   ],
   "source": [
    "df1.shape"
   ]
  },
  {
   "cell_type": "code",
   "execution_count": 9,
   "id": "c1353b86",
   "metadata": {},
   "outputs": [
    {
     "data": {
      "text/html": [
       "<div>\n",
       "<style scoped>\n",
       "    .dataframe tbody tr th:only-of-type {\n",
       "        vertical-align: middle;\n",
       "    }\n",
       "\n",
       "    .dataframe tbody tr th {\n",
       "        vertical-align: top;\n",
       "    }\n",
       "\n",
       "    .dataframe thead th {\n",
       "        text-align: right;\n",
       "    }\n",
       "</style>\n",
       "<table border=\"1\" class=\"dataframe\">\n",
       "  <thead>\n",
       "    <tr style=\"text-align: right;\">\n",
       "      <th></th>\n",
       "      <th>order_id</th>\n",
       "      <th>user_id</th>\n",
       "      <th>user_order_number</th>\n",
       "      <th>orders_day_of_week</th>\n",
       "      <th>order_hour_of_day</th>\n",
       "      <th>days_since_prior_order</th>\n",
       "      <th>product_id</th>\n",
       "      <th>add_to_cart_order</th>\n",
       "      <th>reordered</th>\n",
       "      <th>aisle_id</th>\n",
       "      <th>department_id</th>\n",
       "      <th>prices</th>\n",
       "      <th>max_order</th>\n",
       "      <th>average_product_price</th>\n",
       "      <th>median_dspo</th>\n",
       "      <th>Age</th>\n",
       "      <th>n_dependants</th>\n",
       "      <th>income</th>\n",
       "    </tr>\n",
       "  </thead>\n",
       "  <tbody>\n",
       "    <tr>\n",
       "      <th>count</th>\n",
       "      <td>3.240486e+07</td>\n",
       "      <td>3.240486e+07</td>\n",
       "      <td>3.240486e+07</td>\n",
       "      <td>3.240486e+07</td>\n",
       "      <td>3.240486e+07</td>\n",
       "      <td>3.032876e+07</td>\n",
       "      <td>3.240486e+07</td>\n",
       "      <td>3.240486e+07</td>\n",
       "      <td>3.240486e+07</td>\n",
       "      <td>3.240486e+07</td>\n",
       "      <td>3.240486e+07</td>\n",
       "      <td>3.239973e+07</td>\n",
       "      <td>3.240486e+07</td>\n",
       "      <td>3.240486e+07</td>\n",
       "      <td>3.240485e+07</td>\n",
       "      <td>3.240486e+07</td>\n",
       "      <td>3.240486e+07</td>\n",
       "      <td>3.240486e+07</td>\n",
       "    </tr>\n",
       "    <tr>\n",
       "      <th>mean</th>\n",
       "      <td>1.710745e+06</td>\n",
       "      <td>1.029372e+05</td>\n",
       "      <td>1.714230e+01</td>\n",
       "      <td>2.738867e+00</td>\n",
       "      <td>1.342515e+01</td>\n",
       "      <td>1.110408e+01</td>\n",
       "      <td>2.559866e+04</td>\n",
       "      <td>8.352547e+00</td>\n",
       "      <td>5.895873e-01</td>\n",
       "      <td>7.119612e+01</td>\n",
       "      <td>9.919792e+00</td>\n",
       "      <td>7.790994e+00</td>\n",
       "      <td>3.305217e+01</td>\n",
       "      <td>1.198023e+01</td>\n",
       "      <td>1.039776e+01</td>\n",
       "      <td>4.946527e+01</td>\n",
       "      <td>1.501896e+00</td>\n",
       "      <td>9.943773e+04</td>\n",
       "    </tr>\n",
       "    <tr>\n",
       "      <th>std</th>\n",
       "      <td>9.872988e+05</td>\n",
       "      <td>5.946610e+04</td>\n",
       "      <td>1.753532e+01</td>\n",
       "      <td>2.090077e+00</td>\n",
       "      <td>4.246380e+00</td>\n",
       "      <td>8.779064e+00</td>\n",
       "      <td>1.408400e+04</td>\n",
       "      <td>7.127071e+00</td>\n",
       "      <td>4.919087e-01</td>\n",
       "      <td>3.821139e+01</td>\n",
       "      <td>6.281485e+00</td>\n",
       "      <td>4.241809e+00</td>\n",
       "      <td>2.515525e+01</td>\n",
       "      <td>8.324227e+01</td>\n",
       "      <td>7.131754e+00</td>\n",
       "      <td>1.848558e+01</td>\n",
       "      <td>1.118865e+00</td>\n",
       "      <td>4.305727e+04</td>\n",
       "    </tr>\n",
       "    <tr>\n",
       "      <th>min</th>\n",
       "      <td>2.000000e+00</td>\n",
       "      <td>1.000000e+00</td>\n",
       "      <td>1.000000e+00</td>\n",
       "      <td>0.000000e+00</td>\n",
       "      <td>0.000000e+00</td>\n",
       "      <td>0.000000e+00</td>\n",
       "      <td>1.000000e+00</td>\n",
       "      <td>1.000000e+00</td>\n",
       "      <td>0.000000e+00</td>\n",
       "      <td>1.000000e+00</td>\n",
       "      <td>1.000000e+00</td>\n",
       "      <td>1.000000e+00</td>\n",
       "      <td>1.000000e+00</td>\n",
       "      <td>1.000000e+00</td>\n",
       "      <td>0.000000e+00</td>\n",
       "      <td>1.800000e+01</td>\n",
       "      <td>0.000000e+00</td>\n",
       "      <td>2.590300e+04</td>\n",
       "    </tr>\n",
       "    <tr>\n",
       "      <th>25%</th>\n",
       "      <td>8.559470e+05</td>\n",
       "      <td>5.142200e+04</td>\n",
       "      <td>5.000000e+00</td>\n",
       "      <td>1.000000e+00</td>\n",
       "      <td>1.000000e+01</td>\n",
       "      <td>5.000000e+00</td>\n",
       "      <td>1.354400e+04</td>\n",
       "      <td>3.000000e+00</td>\n",
       "      <td>0.000000e+00</td>\n",
       "      <td>3.100000e+01</td>\n",
       "      <td>4.000000e+00</td>\n",
       "      <td>4.200000e+00</td>\n",
       "      <td>1.300000e+01</td>\n",
       "      <td>7.387298e+00</td>\n",
       "      <td>6.000000e+00</td>\n",
       "      <td>3.300000e+01</td>\n",
       "      <td>1.000000e+00</td>\n",
       "      <td>6.700400e+04</td>\n",
       "    </tr>\n",
       "    <tr>\n",
       "      <th>50%</th>\n",
       "      <td>1.711049e+06</td>\n",
       "      <td>1.026160e+05</td>\n",
       "      <td>1.100000e+01</td>\n",
       "      <td>3.000000e+00</td>\n",
       "      <td>1.300000e+01</td>\n",
       "      <td>8.000000e+00</td>\n",
       "      <td>2.530200e+04</td>\n",
       "      <td>6.000000e+00</td>\n",
       "      <td>1.000000e+00</td>\n",
       "      <td>8.300000e+01</td>\n",
       "      <td>9.000000e+00</td>\n",
       "      <td>7.400000e+00</td>\n",
       "      <td>2.600000e+01</td>\n",
       "      <td>7.824786e+00</td>\n",
       "      <td>8.000000e+00</td>\n",
       "      <td>4.900000e+01</td>\n",
       "      <td>2.000000e+00</td>\n",
       "      <td>9.661800e+04</td>\n",
       "    </tr>\n",
       "    <tr>\n",
       "      <th>75%</th>\n",
       "      <td>2.565499e+06</td>\n",
       "      <td>1.543890e+05</td>\n",
       "      <td>2.400000e+01</td>\n",
       "      <td>5.000000e+00</td>\n",
       "      <td>1.600000e+01</td>\n",
       "      <td>1.500000e+01</td>\n",
       "      <td>3.794700e+04</td>\n",
       "      <td>1.100000e+01</td>\n",
       "      <td>1.000000e+00</td>\n",
       "      <td>1.070000e+02</td>\n",
       "      <td>1.600000e+01</td>\n",
       "      <td>1.130000e+01</td>\n",
       "      <td>4.700000e+01</td>\n",
       "      <td>8.254023e+00</td>\n",
       "      <td>1.300000e+01</td>\n",
       "      <td>6.500000e+01</td>\n",
       "      <td>3.000000e+00</td>\n",
       "      <td>1.279120e+05</td>\n",
       "    </tr>\n",
       "    <tr>\n",
       "      <th>max</th>\n",
       "      <td>3.421083e+06</td>\n",
       "      <td>2.062090e+05</td>\n",
       "      <td>9.900000e+01</td>\n",
       "      <td>6.000000e+00</td>\n",
       "      <td>2.300000e+01</td>\n",
       "      <td>3.000000e+01</td>\n",
       "      <td>4.968800e+04</td>\n",
       "      <td>1.450000e+02</td>\n",
       "      <td>1.000000e+00</td>\n",
       "      <td>1.340000e+02</td>\n",
       "      <td>2.100000e+01</td>\n",
       "      <td>2.500000e+01</td>\n",
       "      <td>9.900000e+01</td>\n",
       "      <td>2.500542e+04</td>\n",
       "      <td>3.000000e+01</td>\n",
       "      <td>8.100000e+01</td>\n",
       "      <td>3.000000e+00</td>\n",
       "      <td>5.939010e+05</td>\n",
       "    </tr>\n",
       "  </tbody>\n",
       "</table>\n",
       "</div>"
      ],
      "text/plain": [
       "           order_id       user_id  user_order_number  orders_day_of_week  \\\n",
       "count  3.240486e+07  3.240486e+07       3.240486e+07        3.240486e+07   \n",
       "mean   1.710745e+06  1.029372e+05       1.714230e+01        2.738867e+00   \n",
       "std    9.872988e+05  5.946610e+04       1.753532e+01        2.090077e+00   \n",
       "min    2.000000e+00  1.000000e+00       1.000000e+00        0.000000e+00   \n",
       "25%    8.559470e+05  5.142200e+04       5.000000e+00        1.000000e+00   \n",
       "50%    1.711049e+06  1.026160e+05       1.100000e+01        3.000000e+00   \n",
       "75%    2.565499e+06  1.543890e+05       2.400000e+01        5.000000e+00   \n",
       "max    3.421083e+06  2.062090e+05       9.900000e+01        6.000000e+00   \n",
       "\n",
       "       order_hour_of_day  days_since_prior_order    product_id  \\\n",
       "count       3.240486e+07            3.032876e+07  3.240486e+07   \n",
       "mean        1.342515e+01            1.110408e+01  2.559866e+04   \n",
       "std         4.246380e+00            8.779064e+00  1.408400e+04   \n",
       "min         0.000000e+00            0.000000e+00  1.000000e+00   \n",
       "25%         1.000000e+01            5.000000e+00  1.354400e+04   \n",
       "50%         1.300000e+01            8.000000e+00  2.530200e+04   \n",
       "75%         1.600000e+01            1.500000e+01  3.794700e+04   \n",
       "max         2.300000e+01            3.000000e+01  4.968800e+04   \n",
       "\n",
       "       add_to_cart_order     reordered      aisle_id  department_id  \\\n",
       "count       3.240486e+07  3.240486e+07  3.240486e+07   3.240486e+07   \n",
       "mean        8.352547e+00  5.895873e-01  7.119612e+01   9.919792e+00   \n",
       "std         7.127071e+00  4.919087e-01  3.821139e+01   6.281485e+00   \n",
       "min         1.000000e+00  0.000000e+00  1.000000e+00   1.000000e+00   \n",
       "25%         3.000000e+00  0.000000e+00  3.100000e+01   4.000000e+00   \n",
       "50%         6.000000e+00  1.000000e+00  8.300000e+01   9.000000e+00   \n",
       "75%         1.100000e+01  1.000000e+00  1.070000e+02   1.600000e+01   \n",
       "max         1.450000e+02  1.000000e+00  1.340000e+02   2.100000e+01   \n",
       "\n",
       "             prices     max_order  average_product_price   median_dspo  \\\n",
       "count  3.239973e+07  3.240486e+07           3.240486e+07  3.240485e+07   \n",
       "mean   7.790994e+00  3.305217e+01           1.198023e+01  1.039776e+01   \n",
       "std    4.241809e+00  2.515525e+01           8.324227e+01  7.131754e+00   \n",
       "min    1.000000e+00  1.000000e+00           1.000000e+00  0.000000e+00   \n",
       "25%    4.200000e+00  1.300000e+01           7.387298e+00  6.000000e+00   \n",
       "50%    7.400000e+00  2.600000e+01           7.824786e+00  8.000000e+00   \n",
       "75%    1.130000e+01  4.700000e+01           8.254023e+00  1.300000e+01   \n",
       "max    2.500000e+01  9.900000e+01           2.500542e+04  3.000000e+01   \n",
       "\n",
       "                Age  n_dependants        income  \n",
       "count  3.240486e+07  3.240486e+07  3.240486e+07  \n",
       "mean   4.946527e+01  1.501896e+00  9.943773e+04  \n",
       "std    1.848558e+01  1.118865e+00  4.305727e+04  \n",
       "min    1.800000e+01  0.000000e+00  2.590300e+04  \n",
       "25%    3.300000e+01  1.000000e+00  6.700400e+04  \n",
       "50%    4.900000e+01  2.000000e+00  9.661800e+04  \n",
       "75%    6.500000e+01  3.000000e+00  1.279120e+05  \n",
       "max    8.100000e+01  3.000000e+00  5.939010e+05  "
      ]
     },
     "execution_count": 9,
     "metadata": {},
     "output_type": "execute_result"
    }
   ],
   "source": [
    "df1.describe()"
   ]
  },
  {
   "cell_type": "markdown",
   "id": "6d8efb8a",
   "metadata": {},
   "source": [
    "### Security implications: First & Last name were present. I created another df without names. State is also present in the data, but not full addresses, I do not see this being problematic with PII."
   ]
  },
  {
   "cell_type": "markdown",
   "id": "de90e266",
   "metadata": {},
   "source": [
    "# 04 Compare Customer Data within Geographic Locations"
   ]
  },
  {
   "cell_type": "markdown",
   "id": "fec4b247",
   "metadata": {},
   "source": [
    "### A. Create Region Variable\n",
    "### B. Create Crosstab - Regions & SpendFlag"
   ]
  },
  {
   "cell_type": "code",
   "execution_count": 10,
   "id": "0cbe52ec",
   "metadata": {},
   "outputs": [],
   "source": [
    "# A. create lists to represent each region of US\n",
    "list1=['Maine', 'New Hampshire', 'Vermont', 'Massachusetts', 'Rhode Island', 'Connecticut', 'New York', 'Pennsylvania', 'New Jersey']\n",
    "list2=['Wisconsin', 'Michigan', 'Illinois', 'Indiana', 'Ohio', 'North Dakota', 'South Dakota', 'Nebraska', 'Kansas', 'Minnesota', 'Iowa', 'Missouri']\n",
    "list3=['Delaware', 'Maryland', 'District of Columbia', 'Virginia', 'West Virginia', 'North Carolina', 'South Carolina', 'Georgia', 'Florida', 'Kentucky', 'Tennessee', 'Mississippi', 'Alabama', 'Oklahoma', 'Texas', 'Arkansas', 'Louisiana']\n",
    "list4=['Idaho', 'Montana', 'Wyoming', 'Nevada', 'Utah', 'Colorado','Arizona', 'New Mexico', 'Alaska', 'Washington', 'Oregon', 'California', 'Hawaii']"
   ]
  },
  {
   "cell_type": "code",
   "execution_count": 11,
   "id": "51dbe3e4",
   "metadata": {},
   "outputs": [],
   "source": [
    "# define Northeast as the region for states in list1\n",
    "df1.loc[df1['STATE'].isin(list1), 'Region'] = 'Northeast'"
   ]
  },
  {
   "cell_type": "code",
   "execution_count": 12,
   "id": "9dcbce70",
   "metadata": {},
   "outputs": [],
   "source": [
    "# define Midwest as the region for states in list2\n",
    "df1.loc[df1['STATE'].isin(list2), 'Region'] = 'Midwest'"
   ]
  },
  {
   "cell_type": "code",
   "execution_count": 13,
   "id": "afc83706",
   "metadata": {},
   "outputs": [],
   "source": [
    "# define South as the region for states in list3\n",
    "df1.loc[df1['STATE'].isin(list3), 'Region'] = 'South'"
   ]
  },
  {
   "cell_type": "code",
   "execution_count": 14,
   "id": "98d567d7",
   "metadata": {},
   "outputs": [],
   "source": [
    "# define West as the region for states in list4\n",
    "df1.loc[df1['STATE'].isin(list4), 'Region'] = 'West'"
   ]
  },
  {
   "cell_type": "code",
   "execution_count": 15,
   "id": "9046d5f5",
   "metadata": {},
   "outputs": [
    {
     "data": {
      "text/plain": [
       "South        10791885\n",
       "West          8292913\n",
       "Midwest       7597325\n",
       "Northeast     5722736\n",
       "Name: Region, dtype: int64"
      ]
     },
     "execution_count": 15,
     "metadata": {},
     "output_type": "execute_result"
    }
   ],
   "source": [
    "# check counts for each region\n",
    "df1['Region'].value_counts(dropna = False)"
   ]
  },
  {
   "cell_type": "code",
   "execution_count": 16,
   "id": "8984f679",
   "metadata": {},
   "outputs": [],
   "source": [
    "# B. using crosstab to check spending habits for regions\n",
    "crosstab = pd.crosstab(df1['Region'], df1['spending_flag'], dropna = False)"
   ]
  },
  {
   "cell_type": "code",
   "execution_count": 17,
   "id": "3c2d511f",
   "metadata": {},
   "outputs": [],
   "source": [
    "crosstab.to_clipboard()\n",
    "# results in Excel workbook"
   ]
  },
  {
   "cell_type": "markdown",
   "id": "9fa79327",
   "metadata": {},
   "source": [
    "### There are more customers in the South Region than any other.\n",
    "### The ratio of high:low spenders is greatest in the Midwest. (marginally)"
   ]
  },
  {
   "cell_type": "markdown",
   "id": "75e1a964",
   "metadata": {},
   "source": [
    "# 05 Create Exclusion Flag for Low Activity Customers"
   ]
  },
  {
   "cell_type": "markdown",
   "id": "ec3ffac8",
   "metadata": {},
   "source": [
    "### A. Create Exclusion Variable\n",
    "### B. Create a Dataframe Excluding Low Activity Customers\n",
    "### C. Export New Dataframe"
   ]
  },
  {
   "cell_type": "code",
   "execution_count": 18,
   "id": "a559d875",
   "metadata": {},
   "outputs": [],
   "source": [
    "#A Create exclusion variable\n",
    "# low activity active_customer flag\n",
    "df1.loc[df['max_order']<5,'active_cust_flag']= 'low_activity'"
   ]
  },
  {
   "cell_type": "code",
   "execution_count": 19,
   "id": "8ac21338",
   "metadata": {},
   "outputs": [],
   "source": [
    "# active active_customer flag\n",
    "df1.loc[df['max_order']>=5, 'active_cust_flag']= 'active'"
   ]
  },
  {
   "cell_type": "code",
   "execution_count": 20,
   "id": "0a5814ba",
   "metadata": {},
   "outputs": [
    {
     "data": {
      "text/plain": [
       "active          30964564\n",
       "low_activity     1440295\n",
       "Name: active_cust_flag, dtype: int64"
      ]
     },
     "execution_count": 20,
     "metadata": {},
     "output_type": "execute_result"
    }
   ],
   "source": [
    "#check active customer flag counts\n",
    "df1['active_cust_flag'].value_counts(dropna=False)"
   ]
  },
  {
   "cell_type": "code",
   "execution_count": 21,
   "id": "b7f9ddfb",
   "metadata": {},
   "outputs": [],
   "source": [
    "#B Create dataframe excluding low activity customers\n",
    "#define new dataframes with active\n",
    "df_active=df1[df1['active_cust_flag']=='active']"
   ]
  },
  {
   "cell_type": "code",
   "execution_count": 22,
   "id": "4c6402f5",
   "metadata": {},
   "outputs": [
    {
     "data": {
      "text/plain": [
       "(30964564, 31)"
      ]
     },
     "execution_count": 22,
     "metadata": {},
     "output_type": "execute_result"
    }
   ],
   "source": [
    "df_active.shape"
   ]
  },
  {
   "cell_type": "code",
   "execution_count": 24,
   "id": "f0eacaac",
   "metadata": {},
   "outputs": [],
   "source": [
    "#C Export\n",
    "#export dataframe with only customers with over 5 orders (deemed active)\n",
    "df_active.to_pickle(os.path.join(path, '02 Data', 'Prepared Data', 'active_cust_prod_all.pkl'))"
   ]
  },
  {
   "cell_type": "markdown",
   "id": "25f79222",
   "metadata": {},
   "source": [
    "# 06 Import Departments Data and Merge"
   ]
  },
  {
   "cell_type": "code",
   "execution_count": 26,
   "id": "e5814cc7",
   "metadata": {},
   "outputs": [],
   "source": [
    "#import departments data\n",
    "df_depts = pd.read_csv(os.path.join(path,'02 Data', 'Prepared Data', 'departments_wrangled.csv'), index_col = False)"
   ]
  },
  {
   "cell_type": "code",
   "execution_count": 27,
   "id": "b7a99e15",
   "metadata": {},
   "outputs": [
    {
     "data": {
      "text/html": [
       "<div>\n",
       "<style scoped>\n",
       "    .dataframe tbody tr th:only-of-type {\n",
       "        vertical-align: middle;\n",
       "    }\n",
       "\n",
       "    .dataframe tbody tr th {\n",
       "        vertical-align: top;\n",
       "    }\n",
       "\n",
       "    .dataframe thead th {\n",
       "        text-align: right;\n",
       "    }\n",
       "</style>\n",
       "<table border=\"1\" class=\"dataframe\">\n",
       "  <thead>\n",
       "    <tr style=\"text-align: right;\">\n",
       "      <th></th>\n",
       "      <th>Unnamed: 0</th>\n",
       "      <th>department</th>\n",
       "    </tr>\n",
       "  </thead>\n",
       "  <tbody>\n",
       "    <tr>\n",
       "      <th>0</th>\n",
       "      <td>1</td>\n",
       "      <td>frozen</td>\n",
       "    </tr>\n",
       "    <tr>\n",
       "      <th>1</th>\n",
       "      <td>2</td>\n",
       "      <td>other</td>\n",
       "    </tr>\n",
       "    <tr>\n",
       "      <th>2</th>\n",
       "      <td>3</td>\n",
       "      <td>bakery</td>\n",
       "    </tr>\n",
       "    <tr>\n",
       "      <th>3</th>\n",
       "      <td>4</td>\n",
       "      <td>produce</td>\n",
       "    </tr>\n",
       "    <tr>\n",
       "      <th>4</th>\n",
       "      <td>5</td>\n",
       "      <td>alcohol</td>\n",
       "    </tr>\n",
       "    <tr>\n",
       "      <th>5</th>\n",
       "      <td>6</td>\n",
       "      <td>international</td>\n",
       "    </tr>\n",
       "    <tr>\n",
       "      <th>6</th>\n",
       "      <td>7</td>\n",
       "      <td>beverages</td>\n",
       "    </tr>\n",
       "    <tr>\n",
       "      <th>7</th>\n",
       "      <td>8</td>\n",
       "      <td>pets</td>\n",
       "    </tr>\n",
       "    <tr>\n",
       "      <th>8</th>\n",
       "      <td>9</td>\n",
       "      <td>dry goods pasta</td>\n",
       "    </tr>\n",
       "    <tr>\n",
       "      <th>9</th>\n",
       "      <td>10</td>\n",
       "      <td>bulk</td>\n",
       "    </tr>\n",
       "    <tr>\n",
       "      <th>10</th>\n",
       "      <td>11</td>\n",
       "      <td>personal care</td>\n",
       "    </tr>\n",
       "    <tr>\n",
       "      <th>11</th>\n",
       "      <td>12</td>\n",
       "      <td>meat seafood</td>\n",
       "    </tr>\n",
       "    <tr>\n",
       "      <th>12</th>\n",
       "      <td>13</td>\n",
       "      <td>pantry</td>\n",
       "    </tr>\n",
       "    <tr>\n",
       "      <th>13</th>\n",
       "      <td>14</td>\n",
       "      <td>breakfast</td>\n",
       "    </tr>\n",
       "    <tr>\n",
       "      <th>14</th>\n",
       "      <td>15</td>\n",
       "      <td>canned goods</td>\n",
       "    </tr>\n",
       "    <tr>\n",
       "      <th>15</th>\n",
       "      <td>16</td>\n",
       "      <td>dairy eggs</td>\n",
       "    </tr>\n",
       "    <tr>\n",
       "      <th>16</th>\n",
       "      <td>17</td>\n",
       "      <td>household</td>\n",
       "    </tr>\n",
       "    <tr>\n",
       "      <th>17</th>\n",
       "      <td>18</td>\n",
       "      <td>babies</td>\n",
       "    </tr>\n",
       "    <tr>\n",
       "      <th>18</th>\n",
       "      <td>19</td>\n",
       "      <td>snacks</td>\n",
       "    </tr>\n",
       "    <tr>\n",
       "      <th>19</th>\n",
       "      <td>20</td>\n",
       "      <td>deli</td>\n",
       "    </tr>\n",
       "    <tr>\n",
       "      <th>20</th>\n",
       "      <td>21</td>\n",
       "      <td>missing</td>\n",
       "    </tr>\n",
       "  </tbody>\n",
       "</table>\n",
       "</div>"
      ],
      "text/plain": [
       "    Unnamed: 0       department\n",
       "0            1           frozen\n",
       "1            2            other\n",
       "2            3           bakery\n",
       "3            4          produce\n",
       "4            5          alcohol\n",
       "5            6    international\n",
       "6            7        beverages\n",
       "7            8             pets\n",
       "8            9  dry goods pasta\n",
       "9           10             bulk\n",
       "10          11    personal care\n",
       "11          12     meat seafood\n",
       "12          13           pantry\n",
       "13          14        breakfast\n",
       "14          15     canned goods\n",
       "15          16       dairy eggs\n",
       "16          17        household\n",
       "17          18           babies\n",
       "18          19           snacks\n",
       "19          20             deli\n",
       "20          21          missing"
      ]
     },
     "execution_count": 27,
     "metadata": {},
     "output_type": "execute_result"
    }
   ],
   "source": [
    "df_depts"
   ]
  },
  {
   "cell_type": "code",
   "execution_count": 28,
   "id": "92abeefd",
   "metadata": {},
   "outputs": [
    {
     "data": {
      "text/plain": [
       "Index(['Unnamed: 0', 'department'], dtype='object')"
      ]
     },
     "execution_count": 28,
     "metadata": {},
     "output_type": "execute_result"
    }
   ],
   "source": [
    "df_depts.columns"
   ]
  },
  {
   "cell_type": "code",
   "execution_count": 29,
   "id": "c9eaecb3",
   "metadata": {},
   "outputs": [],
   "source": [
    "# rename header\n",
    "df_depts.rename(columns={'Unnamed: 0' : 'department_id'}, inplace=True)"
   ]
  },
  {
   "cell_type": "code",
   "execution_count": 30,
   "id": "a9c5b074",
   "metadata": {},
   "outputs": [
    {
     "data": {
      "text/html": [
       "<div>\n",
       "<style scoped>\n",
       "    .dataframe tbody tr th:only-of-type {\n",
       "        vertical-align: middle;\n",
       "    }\n",
       "\n",
       "    .dataframe tbody tr th {\n",
       "        vertical-align: top;\n",
       "    }\n",
       "\n",
       "    .dataframe thead th {\n",
       "        text-align: right;\n",
       "    }\n",
       "</style>\n",
       "<table border=\"1\" class=\"dataframe\">\n",
       "  <thead>\n",
       "    <tr style=\"text-align: right;\">\n",
       "      <th></th>\n",
       "      <th>department_id</th>\n",
       "      <th>department</th>\n",
       "    </tr>\n",
       "  </thead>\n",
       "  <tbody>\n",
       "    <tr>\n",
       "      <th>0</th>\n",
       "      <td>1</td>\n",
       "      <td>frozen</td>\n",
       "    </tr>\n",
       "    <tr>\n",
       "      <th>1</th>\n",
       "      <td>2</td>\n",
       "      <td>other</td>\n",
       "    </tr>\n",
       "    <tr>\n",
       "      <th>2</th>\n",
       "      <td>3</td>\n",
       "      <td>bakery</td>\n",
       "    </tr>\n",
       "    <tr>\n",
       "      <th>3</th>\n",
       "      <td>4</td>\n",
       "      <td>produce</td>\n",
       "    </tr>\n",
       "    <tr>\n",
       "      <th>4</th>\n",
       "      <td>5</td>\n",
       "      <td>alcohol</td>\n",
       "    </tr>\n",
       "    <tr>\n",
       "      <th>5</th>\n",
       "      <td>6</td>\n",
       "      <td>international</td>\n",
       "    </tr>\n",
       "    <tr>\n",
       "      <th>6</th>\n",
       "      <td>7</td>\n",
       "      <td>beverages</td>\n",
       "    </tr>\n",
       "    <tr>\n",
       "      <th>7</th>\n",
       "      <td>8</td>\n",
       "      <td>pets</td>\n",
       "    </tr>\n",
       "    <tr>\n",
       "      <th>8</th>\n",
       "      <td>9</td>\n",
       "      <td>dry goods pasta</td>\n",
       "    </tr>\n",
       "    <tr>\n",
       "      <th>9</th>\n",
       "      <td>10</td>\n",
       "      <td>bulk</td>\n",
       "    </tr>\n",
       "    <tr>\n",
       "      <th>10</th>\n",
       "      <td>11</td>\n",
       "      <td>personal care</td>\n",
       "    </tr>\n",
       "    <tr>\n",
       "      <th>11</th>\n",
       "      <td>12</td>\n",
       "      <td>meat seafood</td>\n",
       "    </tr>\n",
       "    <tr>\n",
       "      <th>12</th>\n",
       "      <td>13</td>\n",
       "      <td>pantry</td>\n",
       "    </tr>\n",
       "    <tr>\n",
       "      <th>13</th>\n",
       "      <td>14</td>\n",
       "      <td>breakfast</td>\n",
       "    </tr>\n",
       "    <tr>\n",
       "      <th>14</th>\n",
       "      <td>15</td>\n",
       "      <td>canned goods</td>\n",
       "    </tr>\n",
       "    <tr>\n",
       "      <th>15</th>\n",
       "      <td>16</td>\n",
       "      <td>dairy eggs</td>\n",
       "    </tr>\n",
       "    <tr>\n",
       "      <th>16</th>\n",
       "      <td>17</td>\n",
       "      <td>household</td>\n",
       "    </tr>\n",
       "    <tr>\n",
       "      <th>17</th>\n",
       "      <td>18</td>\n",
       "      <td>babies</td>\n",
       "    </tr>\n",
       "    <tr>\n",
       "      <th>18</th>\n",
       "      <td>19</td>\n",
       "      <td>snacks</td>\n",
       "    </tr>\n",
       "    <tr>\n",
       "      <th>19</th>\n",
       "      <td>20</td>\n",
       "      <td>deli</td>\n",
       "    </tr>\n",
       "    <tr>\n",
       "      <th>20</th>\n",
       "      <td>21</td>\n",
       "      <td>missing</td>\n",
       "    </tr>\n",
       "  </tbody>\n",
       "</table>\n",
       "</div>"
      ],
      "text/plain": [
       "    department_id       department\n",
       "0               1           frozen\n",
       "1               2            other\n",
       "2               3           bakery\n",
       "3               4          produce\n",
       "4               5          alcohol\n",
       "5               6    international\n",
       "6               7        beverages\n",
       "7               8             pets\n",
       "8               9  dry goods pasta\n",
       "9              10             bulk\n",
       "10             11    personal care\n",
       "11             12     meat seafood\n",
       "12             13           pantry\n",
       "13             14        breakfast\n",
       "14             15     canned goods\n",
       "15             16       dairy eggs\n",
       "16             17        household\n",
       "17             18           babies\n",
       "18             19           snacks\n",
       "19             20             deli\n",
       "20             21          missing"
      ]
     },
     "execution_count": 30,
     "metadata": {},
     "output_type": "execute_result"
    }
   ],
   "source": [
    "df_depts"
   ]
  },
  {
   "cell_type": "code",
   "execution_count": 31,
   "id": "ff8f47c6",
   "metadata": {},
   "outputs": [],
   "source": [
    "# merge dept data with df\n",
    "df_opm_dept=df1.merge(df_depts, on = ['department_id'], how = 'left')"
   ]
  },
  {
   "cell_type": "code",
   "execution_count": 32,
   "id": "f0ff562e",
   "metadata": {},
   "outputs": [
    {
     "data": {
      "text/plain": [
       "(32404859, 32)"
      ]
     },
     "execution_count": 32,
     "metadata": {},
     "output_type": "execute_result"
    }
   ],
   "source": [
    "df_opm_dept.shape"
   ]
  },
  {
   "cell_type": "markdown",
   "id": "785b0503",
   "metadata": {},
   "source": [
    "# 07 Create Profiling Variables\n"
   ]
  },
  {
   "cell_type": "markdown",
   "id": "75e06353",
   "metadata": {},
   "source": [
    "### A. Profiling variable by Generation (Age)\n",
    "### B. Profiling variable by Income Class (income, dependants, & fam_status)"
   ]
  },
  {
   "cell_type": "code",
   "execution_count": 33,
   "id": "1db803b6",
   "metadata": {},
   "outputs": [
    {
     "data": {
      "text/html": [
       "<div>\n",
       "<style scoped>\n",
       "    .dataframe tbody tr th:only-of-type {\n",
       "        vertical-align: middle;\n",
       "    }\n",
       "\n",
       "    .dataframe tbody tr th {\n",
       "        vertical-align: top;\n",
       "    }\n",
       "\n",
       "    .dataframe thead th {\n",
       "        text-align: right;\n",
       "    }\n",
       "</style>\n",
       "<table border=\"1\" class=\"dataframe\">\n",
       "  <thead>\n",
       "    <tr style=\"text-align: right;\">\n",
       "      <th></th>\n",
       "      <th>order_id</th>\n",
       "      <th>user_id</th>\n",
       "      <th>user_order_number</th>\n",
       "      <th>orders_day_of_week</th>\n",
       "      <th>order_hour_of_day</th>\n",
       "      <th>days_since_prior_order</th>\n",
       "      <th>product_id</th>\n",
       "      <th>add_to_cart_order</th>\n",
       "      <th>reordered</th>\n",
       "      <th>product_name</th>\n",
       "      <th>...</th>\n",
       "      <th>Gender</th>\n",
       "      <th>STATE</th>\n",
       "      <th>Age</th>\n",
       "      <th>date_joined</th>\n",
       "      <th>n_dependants</th>\n",
       "      <th>fam_status</th>\n",
       "      <th>income</th>\n",
       "      <th>Region</th>\n",
       "      <th>active_cust_flag</th>\n",
       "      <th>department</th>\n",
       "    </tr>\n",
       "  </thead>\n",
       "  <tbody>\n",
       "    <tr>\n",
       "      <th>0</th>\n",
       "      <td>2539329</td>\n",
       "      <td>1</td>\n",
       "      <td>1</td>\n",
       "      <td>2</td>\n",
       "      <td>8</td>\n",
       "      <td>NaN</td>\n",
       "      <td>196</td>\n",
       "      <td>1</td>\n",
       "      <td>0</td>\n",
       "      <td>Soda</td>\n",
       "      <td>...</td>\n",
       "      <td>Female</td>\n",
       "      <td>Alabama</td>\n",
       "      <td>31</td>\n",
       "      <td>2/17/2019</td>\n",
       "      <td>3</td>\n",
       "      <td>married</td>\n",
       "      <td>40423</td>\n",
       "      <td>South</td>\n",
       "      <td>active</td>\n",
       "      <td>beverages</td>\n",
       "    </tr>\n",
       "    <tr>\n",
       "      <th>1</th>\n",
       "      <td>2398795</td>\n",
       "      <td>1</td>\n",
       "      <td>2</td>\n",
       "      <td>3</td>\n",
       "      <td>7</td>\n",
       "      <td>15.0</td>\n",
       "      <td>196</td>\n",
       "      <td>1</td>\n",
       "      <td>1</td>\n",
       "      <td>Soda</td>\n",
       "      <td>...</td>\n",
       "      <td>Female</td>\n",
       "      <td>Alabama</td>\n",
       "      <td>31</td>\n",
       "      <td>2/17/2019</td>\n",
       "      <td>3</td>\n",
       "      <td>married</td>\n",
       "      <td>40423</td>\n",
       "      <td>South</td>\n",
       "      <td>active</td>\n",
       "      <td>beverages</td>\n",
       "    </tr>\n",
       "    <tr>\n",
       "      <th>2</th>\n",
       "      <td>473747</td>\n",
       "      <td>1</td>\n",
       "      <td>3</td>\n",
       "      <td>3</td>\n",
       "      <td>12</td>\n",
       "      <td>21.0</td>\n",
       "      <td>196</td>\n",
       "      <td>1</td>\n",
       "      <td>1</td>\n",
       "      <td>Soda</td>\n",
       "      <td>...</td>\n",
       "      <td>Female</td>\n",
       "      <td>Alabama</td>\n",
       "      <td>31</td>\n",
       "      <td>2/17/2019</td>\n",
       "      <td>3</td>\n",
       "      <td>married</td>\n",
       "      <td>40423</td>\n",
       "      <td>South</td>\n",
       "      <td>active</td>\n",
       "      <td>beverages</td>\n",
       "    </tr>\n",
       "    <tr>\n",
       "      <th>3</th>\n",
       "      <td>2254736</td>\n",
       "      <td>1</td>\n",
       "      <td>4</td>\n",
       "      <td>4</td>\n",
       "      <td>7</td>\n",
       "      <td>29.0</td>\n",
       "      <td>196</td>\n",
       "      <td>1</td>\n",
       "      <td>1</td>\n",
       "      <td>Soda</td>\n",
       "      <td>...</td>\n",
       "      <td>Female</td>\n",
       "      <td>Alabama</td>\n",
       "      <td>31</td>\n",
       "      <td>2/17/2019</td>\n",
       "      <td>3</td>\n",
       "      <td>married</td>\n",
       "      <td>40423</td>\n",
       "      <td>South</td>\n",
       "      <td>active</td>\n",
       "      <td>beverages</td>\n",
       "    </tr>\n",
       "    <tr>\n",
       "      <th>4</th>\n",
       "      <td>431534</td>\n",
       "      <td>1</td>\n",
       "      <td>5</td>\n",
       "      <td>4</td>\n",
       "      <td>15</td>\n",
       "      <td>28.0</td>\n",
       "      <td>196</td>\n",
       "      <td>1</td>\n",
       "      <td>1</td>\n",
       "      <td>Soda</td>\n",
       "      <td>...</td>\n",
       "      <td>Female</td>\n",
       "      <td>Alabama</td>\n",
       "      <td>31</td>\n",
       "      <td>2/17/2019</td>\n",
       "      <td>3</td>\n",
       "      <td>married</td>\n",
       "      <td>40423</td>\n",
       "      <td>South</td>\n",
       "      <td>active</td>\n",
       "      <td>beverages</td>\n",
       "    </tr>\n",
       "  </tbody>\n",
       "</table>\n",
       "<p>5 rows × 32 columns</p>\n",
       "</div>"
      ],
      "text/plain": [
       "   order_id  user_id  user_order_number  orders_day_of_week  \\\n",
       "0   2539329        1                  1                   2   \n",
       "1   2398795        1                  2                   3   \n",
       "2    473747        1                  3                   3   \n",
       "3   2254736        1                  4                   4   \n",
       "4    431534        1                  5                   4   \n",
       "\n",
       "   order_hour_of_day  days_since_prior_order  product_id  add_to_cart_order  \\\n",
       "0                  8                     NaN         196                  1   \n",
       "1                  7                    15.0         196                  1   \n",
       "2                 12                    21.0         196                  1   \n",
       "3                  7                    29.0         196                  1   \n",
       "4                 15                    28.0         196                  1   \n",
       "\n",
       "   reordered product_name  ...  Gender    STATE  Age date_joined n_dependants  \\\n",
       "0          0         Soda  ...  Female  Alabama   31   2/17/2019            3   \n",
       "1          1         Soda  ...  Female  Alabama   31   2/17/2019            3   \n",
       "2          1         Soda  ...  Female  Alabama   31   2/17/2019            3   \n",
       "3          1         Soda  ...  Female  Alabama   31   2/17/2019            3   \n",
       "4          1         Soda  ...  Female  Alabama   31   2/17/2019            3   \n",
       "\n",
       "  fam_status  income Region  active_cust_flag department  \n",
       "0    married   40423  South            active  beverages  \n",
       "1    married   40423  South            active  beverages  \n",
       "2    married   40423  South            active  beverages  \n",
       "3    married   40423  South            active  beverages  \n",
       "4    married   40423  South            active  beverages  \n",
       "\n",
       "[5 rows x 32 columns]"
      ]
     },
     "execution_count": 33,
     "metadata": {},
     "output_type": "execute_result"
    }
   ],
   "source": [
    "# look at data sample \n",
    "df_opm_dept.head()"
   ]
  },
  {
   "cell_type": "code",
   "execution_count": 34,
   "id": "e7013689",
   "metadata": {},
   "outputs": [],
   "source": [
    "# allow to see many/all records\n",
    "pd.options.display.max_rows = None"
   ]
  },
  {
   "cell_type": "code",
   "execution_count": 35,
   "id": "164bfec3",
   "metadata": {},
   "outputs": [
    {
     "data": {
      "text/plain": [
       "18    500474\n",
       "19    519606\n",
       "20    502848\n",
       "21    512527\n",
       "22    513853\n",
       "Name: Age, dtype: int64"
      ]
     },
     "execution_count": 35,
     "metadata": {},
     "output_type": "execute_result"
    }
   ],
   "source": [
    "# view smallest age values\n",
    "df_opm_dept['Age'].value_counts(dropna=False).sort_index().head()"
   ]
  },
  {
   "cell_type": "code",
   "execution_count": 36,
   "id": "10b55dd7",
   "metadata": {},
   "outputs": [
    {
     "data": {
      "text/plain": [
       "77    502120\n",
       "78    495311\n",
       "79    529742\n",
       "80    515246\n",
       "81    509284\n",
       "Name: Age, dtype: int64"
      ]
     },
     "execution_count": 36,
     "metadata": {},
     "output_type": "execute_result"
    }
   ],
   "source": [
    "# view largest age values\n",
    "df_opm_dept['Age'].value_counts(dropna=False).sort_index().tail()"
   ]
  },
  {
   "cell_type": "markdown",
   "id": "f07e75f4",
   "metadata": {},
   "source": [
    "### A. 'Generation' customer profile & visualization "
   ]
  },
  {
   "cell_type": "code",
   "execution_count": 37,
   "id": "cd96ba3a",
   "metadata": {},
   "outputs": [],
   "source": [
    "# create empty list 'result'\n",
    "result=[]\n",
    "\n",
    "#for loop to categorize ages:\n",
    "for value in df_opm_dept['Age']:\n",
    "    if value <26:\n",
    "        result.append('GenZ(18-25)')\n",
    "    elif value <42:\n",
    "        result.append('Millenial(26-41)')\n",
    "    elif value <58:\n",
    "        result.append('GenX(42-57)')\n",
    "    elif value <77:\n",
    "        result.append('Boomer(58-77)')\n",
    "    else:\n",
    "        result.append('SilentGen(78+)')"
   ]
  },
  {
   "cell_type": "code",
   "execution_count": 38,
   "id": "8ac0a2d8",
   "metadata": {},
   "outputs": [],
   "source": [
    "#connect the df_opm_dept['Generation'] to results\n",
    "df_opm_dept['Generation'] = result"
   ]
  },
  {
   "cell_type": "code",
   "execution_count": 39,
   "id": "6a36f9fc",
   "metadata": {},
   "outputs": [
    {
     "data": {
      "text/plain": [
       "Boomer(58-77)       9520639\n",
       "GenX(42-57)         8187246\n",
       "Millenial(26-41)    8100082\n",
       "GenZ(18-25)         4045189\n",
       "SilentGen(78+)      2551703\n",
       "Name: Generation, dtype: int64"
      ]
     },
     "execution_count": 39,
     "metadata": {},
     "output_type": "execute_result"
    }
   ],
   "source": [
    "df_opm_dept['Generation'].value_counts(dropna=False)"
   ]
  },
  {
   "cell_type": "code",
   "execution_count": 40,
   "id": "7bdf245e",
   "metadata": {},
   "outputs": [
    {
     "data": {
      "text/plain": [
       "Text(0, 0.5, '# of products in millions')"
      ]
     },
     "execution_count": 40,
     "metadata": {},
     "output_type": "execute_result"
    },
    {
     "data": {
      "image/png": "[encoded data removed]",
      "text/plain": [
       "<Figure size 432x288 with 1 Axes>"
      ]
     },
     "metadata": {
      "needs_background": "light"
     },
     "output_type": "display_data"
    }
   ],
   "source": [
    "#create visualization for Generations\n",
    "\n",
    "bar_Gen=df_opm_dept['Generation'].value_counts().plot.bar()\n",
    "plt.title('Number of Products Sold by Generation')\n",
    "plt.ylabel('# of products in millions')\n"
   ]
  },
  {
   "cell_type": "code",
   "execution_count": 41,
   "id": "09f342e1",
   "metadata": {},
   "outputs": [],
   "source": [
    "bar_Gen.figure.savefig(os.path.join(path, '04 Analysis', 'Visualizations', 'bar_Gen_prodct.png'))"
   ]
  },
  {
   "cell_type": "code",
   "execution_count": 42,
   "id": "15650ee5",
   "metadata": {},
   "outputs": [
    {
     "data": {
      "text/html": [
       "<div>\n",
       "<style scoped>\n",
       "    .dataframe tbody tr th:only-of-type {\n",
       "        vertical-align: middle;\n",
       "    }\n",
       "\n",
       "    .dataframe tbody tr th {\n",
       "        vertical-align: top;\n",
       "    }\n",
       "\n",
       "    .dataframe thead tr th {\n",
       "        text-align: left;\n",
       "    }\n",
       "\n",
       "    .dataframe thead tr:last-of-type th {\n",
       "        text-align: right;\n",
       "    }\n",
       "</style>\n",
       "<table border=\"1\" class=\"dataframe\">\n",
       "  <thead>\n",
       "    <tr>\n",
       "      <th></th>\n",
       "      <th colspan=\"3\" halign=\"left\">prices</th>\n",
       "    </tr>\n",
       "    <tr>\n",
       "      <th></th>\n",
       "      <th>mean</th>\n",
       "      <th>min</th>\n",
       "      <th>max</th>\n",
       "    </tr>\n",
       "    <tr>\n",
       "      <th>Generation</th>\n",
       "      <th></th>\n",
       "      <th></th>\n",
       "      <th></th>\n",
       "    </tr>\n",
       "  </thead>\n",
       "  <tbody>\n",
       "    <tr>\n",
       "      <th>Boomer(58-77)</th>\n",
       "      <td>7.796990</td>\n",
       "      <td>1.0</td>\n",
       "      <td>25.0</td>\n",
       "    </tr>\n",
       "    <tr>\n",
       "      <th>GenX(42-57)</th>\n",
       "      <td>7.790789</td>\n",
       "      <td>1.0</td>\n",
       "      <td>25.0</td>\n",
       "    </tr>\n",
       "    <tr>\n",
       "      <th>GenZ(18-25)</th>\n",
       "      <td>7.785748</td>\n",
       "      <td>1.0</td>\n",
       "      <td>25.0</td>\n",
       "    </tr>\n",
       "    <tr>\n",
       "      <th>Millenial(26-41)</th>\n",
       "      <td>7.787246</td>\n",
       "      <td>1.0</td>\n",
       "      <td>25.0</td>\n",
       "    </tr>\n",
       "    <tr>\n",
       "      <th>SilentGen(78+)</th>\n",
       "      <td>7.789497</td>\n",
       "      <td>1.0</td>\n",
       "      <td>25.0</td>\n",
       "    </tr>\n",
       "  </tbody>\n",
       "</table>\n",
       "</div>"
      ],
      "text/plain": [
       "                    prices           \n",
       "                      mean  min   max\n",
       "Generation                           \n",
       "Boomer(58-77)     7.796990  1.0  25.0\n",
       "GenX(42-57)       7.790789  1.0  25.0\n",
       "GenZ(18-25)       7.785748  1.0  25.0\n",
       "Millenial(26-41)  7.787246  1.0  25.0\n",
       "SilentGen(78+)    7.789497  1.0  25.0"
      ]
     },
     "execution_count": 42,
     "metadata": {},
     "output_type": "execute_result"
    }
   ],
   "source": [
    "df_opm_dept.groupby('Generation').agg({'prices' : ['mean', 'min', 'max']})"
   ]
  },
  {
   "cell_type": "code",
   "execution_count": 43,
   "id": "ddd6f91c",
   "metadata": {},
   "outputs": [
    {
     "data": {
      "text/html": [
       "<div>\n",
       "<style scoped>\n",
       "    .dataframe tbody tr th:only-of-type {\n",
       "        vertical-align: middle;\n",
       "    }\n",
       "\n",
       "    .dataframe tbody tr th {\n",
       "        vertical-align: top;\n",
       "    }\n",
       "\n",
       "    .dataframe thead tr th {\n",
       "        text-align: left;\n",
       "    }\n",
       "\n",
       "    .dataframe thead tr:last-of-type th {\n",
       "        text-align: right;\n",
       "    }\n",
       "</style>\n",
       "<table border=\"1\" class=\"dataframe\">\n",
       "  <thead>\n",
       "    <tr>\n",
       "      <th></th>\n",
       "      <th colspan=\"3\" halign=\"left\">user_order_number</th>\n",
       "    </tr>\n",
       "    <tr>\n",
       "      <th></th>\n",
       "      <th>mean</th>\n",
       "      <th>min</th>\n",
       "      <th>max</th>\n",
       "    </tr>\n",
       "    <tr>\n",
       "      <th>Generation</th>\n",
       "      <th></th>\n",
       "      <th></th>\n",
       "      <th></th>\n",
       "    </tr>\n",
       "  </thead>\n",
       "  <tbody>\n",
       "    <tr>\n",
       "      <th>Boomer(58-77)</th>\n",
       "      <td>17.122193</td>\n",
       "      <td>1</td>\n",
       "      <td>99</td>\n",
       "    </tr>\n",
       "    <tr>\n",
       "      <th>GenX(42-57)</th>\n",
       "      <td>17.158065</td>\n",
       "      <td>1</td>\n",
       "      <td>99</td>\n",
       "    </tr>\n",
       "    <tr>\n",
       "      <th>GenZ(18-25)</th>\n",
       "      <td>17.173224</td>\n",
       "      <td>1</td>\n",
       "      <td>99</td>\n",
       "    </tr>\n",
       "    <tr>\n",
       "      <th>Millenial(26-41)</th>\n",
       "      <td>17.144745</td>\n",
       "      <td>1</td>\n",
       "      <td>99</td>\n",
       "    </tr>\n",
       "    <tr>\n",
       "      <th>SilentGen(78+)</th>\n",
       "      <td>17.110013</td>\n",
       "      <td>1</td>\n",
       "      <td>99</td>\n",
       "    </tr>\n",
       "  </tbody>\n",
       "</table>\n",
       "</div>"
      ],
      "text/plain": [
       "                 user_order_number        \n",
       "                              mean min max\n",
       "Generation                                \n",
       "Boomer(58-77)            17.122193   1  99\n",
       "GenX(42-57)              17.158065   1  99\n",
       "GenZ(18-25)              17.173224   1  99\n",
       "Millenial(26-41)         17.144745   1  99\n",
       "SilentGen(78+)           17.110013   1  99"
      ]
     },
     "execution_count": 43,
     "metadata": {},
     "output_type": "execute_result"
    }
   ],
   "source": [
    "df_opm_dept.groupby('Generation').agg({'user_order_number' : ['mean', 'min', 'max']})\n",
    "# this is using every order number, so is lower than it should be to represent the mean and min number of orders"
   ]
  },
  {
   "cell_type": "code",
   "execution_count": 44,
   "id": "294d099a",
   "metadata": {},
   "outputs": [],
   "source": [
    "crosstab2 = pd.crosstab(df_opm_dept['Generation'], df_opm_dept['Region'], dropna = False)\n"
   ]
  },
  {
   "cell_type": "code",
   "execution_count": 45,
   "id": "bfaf756e",
   "metadata": {},
   "outputs": [],
   "source": [
    "crosstab2.to_clipboard()"
   ]
  },
  {
   "cell_type": "code",
   "execution_count": 46,
   "id": "e7e65e77",
   "metadata": {},
   "outputs": [],
   "source": [
    "crosstab3 = pd.crosstab(df_opm_dept['Generation'], df_opm_dept['department'], dropna = False)\n"
   ]
  },
  {
   "cell_type": "code",
   "execution_count": 47,
   "id": "d6cf27bc",
   "metadata": {},
   "outputs": [],
   "source": [
    "crosstab3.to_clipboard()"
   ]
  },
  {
   "cell_type": "markdown",
   "id": "a85ecea5",
   "metadata": {},
   "source": [
    "### B. 'IncomeClass' customer profile & visualizations"
   ]
  },
  {
   "cell_type": "code",
   "execution_count": 48,
   "id": "5dd57424",
   "metadata": {},
   "outputs": [],
   "source": [
    "# define low-income: single or divorced/widowed, no children, income <=34400\n",
    "# define mid-income: single or divorced/widowed, no children, income >34400 and <=103200\n",
    "# define upper-income: single or divorced/widowed, no children, income >103200\n",
    "\n",
    "# define low-income: married w/ no children or divorced/widowed with 1 child, income <=43693\n",
    "# define mid-income: married w/ no children or divorced/widowed with 1 child, income >43693 and <=131078\n",
    "# define upper-income: married w/ no children or divorced/widowed with 1 child, income >131078\n",
    "\n",
    "# define low-income: married, 1 child, income <=50697\n",
    "# define low-income: divorced/widowed with 2 children, income <=50697\n",
    "# define mid-income: married, 1 child, income >50697 and <=152092\n",
    "# define mid-income: divorced/widowed with 2 children,, income >50697 and <=152092\n",
    "# define upper-income: married, 1 child, income >152092\n",
    "# define upper-income: divorced/widowed with 2 children, income >152092\n",
    "\n",
    "\n",
    "# define low-income: married, >1 children, income <=60499\n",
    "# define low-income: divorced/widowed with >2 children, income <=60499\n",
    "# define mid-income: married, >1 children, income >60499 and <=181496\n",
    "# define mid-income: divorced/widowed with >2 children, income >60499 and <=181496\n",
    "# define upper-income: married, >1 children, income >181496\n",
    "# define upper-income: divorced/widowed with >2 children, income >181496\n",
    "\n",
    "\n",
    "# info on breakdown: https://www.gobankingrates.com/money/economy/americans-dont-know-what-class-theyre-in/"
   ]
  },
  {
   "cell_type": "markdown",
   "id": "ba6152e2",
   "metadata": {},
   "source": [
    "### 1 person household income ranges"
   ]
  },
  {
   "cell_type": "code",
   "execution_count": 49,
   "id": "2bc54410",
   "metadata": {},
   "outputs": [],
   "source": [
    "df_opm_dept.loc[(df_opm_dept['fam_status']=='single') & (df_opm_dept['n_dependants']==0) & (df_opm_dept['income']<=34400),'IncomeClass']='low_income'\n",
    "df_opm_dept.loc[(df_opm_dept['fam_status']=='divorced/widowed') & (df_opm_dept['n_dependants']==0) & (df_opm_dept['income']<=34400),'IncomeClass']='low_income'"
   ]
  },
  {
   "cell_type": "code",
   "execution_count": 50,
   "id": "fbf3f891",
   "metadata": {},
   "outputs": [],
   "source": [
    "df_opm_dept.loc[(df_opm_dept['fam_status']=='single') & (df_opm_dept['n_dependants']==0) & (df_opm_dept['income']>34400) & (df_opm_dept['income']<=103200),'IncomeClass']='mid_income'\n",
    "df_opm_dept.loc[(df_opm_dept['fam_status']=='divorced/widowed') & (df_opm_dept['n_dependants']==0) & (df_opm_dept['income']>34400) & (df_opm_dept['income']<=103200),'IncomeClass']='mid_income'"
   ]
  },
  {
   "cell_type": "code",
   "execution_count": 51,
   "id": "d64da949",
   "metadata": {},
   "outputs": [],
   "source": [
    "df_opm_dept.loc[(df_opm_dept['fam_status']=='single') & (df_opm_dept['n_dependants']==0) & (df_opm_dept['income']>103200),'IncomeClass']='upper_income'\n",
    "df_opm_dept.loc[(df_opm_dept['fam_status']=='divorced/widowed') & (df_opm_dept['n_dependants']==0) & (df_opm_dept['income']>103200),'IncomeClass']='upper_income'"
   ]
  },
  {
   "cell_type": "code",
   "execution_count": 52,
   "id": "754f019c",
   "metadata": {},
   "outputs": [
    {
     "data": {
      "text/plain": [
       "NaN             24307356\n",
       "mid_income       4414875\n",
       "upper_income     3459257\n",
       "low_income        223371\n",
       "Name: IncomeClass, dtype: int64"
      ]
     },
     "execution_count": 52,
     "metadata": {},
     "output_type": "execute_result"
    }
   ],
   "source": [
    "df_opm_dept['IncomeClass'].value_counts(dropna=False)"
   ]
  },
  {
   "cell_type": "markdown",
   "id": "f035631f",
   "metadata": {},
   "source": [
    "### 2 person household income ranges"
   ]
  },
  {
   "cell_type": "code",
   "execution_count": 53,
   "id": "44cbbb6b",
   "metadata": {},
   "outputs": [],
   "source": [
    "df_opm_dept.loc[(df_opm_dept['fam_status']=='married') & (df_opm_dept['n_dependants']==0) & (df_opm_dept['income']<=43693),'IncomeClass']='low_income'\n",
    "df_opm_dept.loc[(df_opm_dept['fam_status']=='single') & (df_opm_dept['n_dependants']==1) & (df_opm_dept['income']<=43693),'IncomeClass']='low_income'\n",
    "df_opm_dept.loc[(df_opm_dept['fam_status']=='divorced/widowed') & (df_opm_dept['n_dependants']==1) & (df_opm_dept['income']<=43693),'IncomeClass']='low_income'\n",
    "df_opm_dept.loc[(df_opm_dept['fam_status']=='living with parents and siblings') & (df_opm_dept['n_dependants']==1) & (df_opm_dept['income']<=43693),'IncomeClass']='low_income'"
   ]
  },
  {
   "cell_type": "code",
   "execution_count": 54,
   "id": "58b0b457",
   "metadata": {},
   "outputs": [],
   "source": [
    "df_opm_dept.loc[(df_opm_dept['fam_status']=='married') & (df_opm_dept['n_dependants']==0) & (df_opm_dept['income']>43693) & (df_opm_dept['income']<=131078),'IncomeClass']='mid_income'\n",
    "df_opm_dept.loc[(df_opm_dept['fam_status']=='single') & (df_opm_dept['n_dependants']==1) & (df_opm_dept['income']>43693) & (df_opm_dept['income']<=131078),'IncomeClass']='mid_income'\n",
    "df_opm_dept.loc[(df_opm_dept['fam_status']=='divorced/widowed') & (df_opm_dept['n_dependants']==1) & (df_opm_dept['income']>43693) & (df_opm_dept['income']<=131078),'IncomeClass']='mid_income'\n",
    "df_opm_dept.loc[(df_opm_dept['fam_status']=='living with parents and siblings') & (df_opm_dept['n_dependants']==1) & (df_opm_dept['income']>43693) & (df_opm_dept['income']<=131078),'IncomeClass']='mid_income'"
   ]
  },
  {
   "cell_type": "code",
   "execution_count": 55,
   "id": "e7e4941e",
   "metadata": {},
   "outputs": [],
   "source": [
    "df_opm_dept.loc[(df_opm_dept['fam_status']=='married') & (df_opm_dept['n_dependants']==0) & (df_opm_dept['income']>131078),'IncomeClass']='upper_income'\n",
    "df_opm_dept.loc[(df_opm_dept['fam_status']=='single') & (df_opm_dept['n_dependants']==1) & (df_opm_dept['income']>131078),'IncomeClass']='upper_income'\n",
    "df_opm_dept.loc[(df_opm_dept['fam_status']=='divorced/widowed') & (df_opm_dept['n_dependants']==1) & (df_opm_dept['income']>131078),'IncomeClass']='upper_income'\n",
    "df_opm_dept.loc[(df_opm_dept['fam_status']=='living with parents and siblings') & (df_opm_dept['n_dependants']==1) & (df_opm_dept['income']>131078),'IncomeClass']='upper_income'"
   ]
  },
  {
   "cell_type": "code",
   "execution_count": 56,
   "id": "f7748416",
   "metadata": {},
   "outputs": [
    {
     "data": {
      "text/plain": [
       "NaN             23777156\n",
       "mid_income       4889239\n",
       "upper_income     3466068\n",
       "low_income        272396\n",
       "Name: IncomeClass, dtype: int64"
      ]
     },
     "execution_count": 56,
     "metadata": {},
     "output_type": "execute_result"
    }
   ],
   "source": [
    "df_opm_dept['IncomeClass'].value_counts(dropna=False)"
   ]
  },
  {
   "cell_type": "markdown",
   "id": "67deb46a",
   "metadata": {},
   "source": [
    "### 3 person household income ranges"
   ]
  },
  {
   "cell_type": "code",
   "execution_count": 57,
   "id": "4a913145",
   "metadata": {},
   "outputs": [],
   "source": [
    "df_opm_dept.loc[(df_opm_dept['fam_status']=='married') & (df_opm_dept['n_dependants']==1) & (df_opm_dept['income']<=50697),'IncomeClass']='low_income'\n",
    "df_opm_dept.loc[(df_opm_dept['fam_status']=='single') & (df_opm_dept['n_dependants']==2) & (df_opm_dept['income']<=50697),'IncomeClass']='low_income'\n",
    "df_opm_dept.loc[(df_opm_dept['fam_status']=='living with parents and siblings') & (df_opm_dept['n_dependants']==1) & (df_opm_dept['income']<=50697),'IncomeClass']='low_income'"
   ]
  },
  {
   "cell_type": "code",
   "execution_count": 58,
   "id": "3dcae7f9",
   "metadata": {},
   "outputs": [],
   "source": [
    "df_opm_dept.loc[(df_opm_dept['fam_status']=='married') & (df_opm_dept['n_dependants']==1) & (df_opm_dept['income']>50697) & (df_opm_dept['income']<=152092),'IncomeClass']='mid_income'\n",
    "df_opm_dept.loc[(df_opm_dept['fam_status']=='single') & (df_opm_dept['n_dependants']==2) & (df_opm_dept['income']>50697) & (df_opm_dept['income']<=152092),'IncomeClass']='mid_income'\n",
    "df_opm_dept.loc[(df_opm_dept['fam_status']=='living with parents and siblings') & (df_opm_dept['n_dependants']==1) & (df_opm_dept['income']>50697) & (df_opm_dept['income']<=152092),'IncomeClass']='mid_income'"
   ]
  },
  {
   "cell_type": "code",
   "execution_count": 59,
   "id": "dca0f52a",
   "metadata": {},
   "outputs": [],
   "source": [
    "df_opm_dept.loc[(df_opm_dept['fam_status']=='married') & (df_opm_dept['n_dependants']==1) & (df_opm_dept['income']>152092),'IncomeClass']='upper_income'\n",
    "df_opm_dept.loc[(df_opm_dept['fam_status']=='single') & (df_opm_dept['n_dependants']==2) & (df_opm_dept['income']>152092),'IncomeClass']='upper_income'\n",
    "df_opm_dept.loc[(df_opm_dept['fam_status']=='living with parents and siblings') & (df_opm_dept['n_dependants']==1) & (df_opm_dept['income']>152092),'IncomeClass']='upper_income'"
   ]
  },
  {
   "cell_type": "code",
   "execution_count": 60,
   "id": "a5a3552f",
   "metadata": {},
   "outputs": [
    {
     "data": {
      "text/plain": [
       "NaN             16226252\n",
       "mid_income      10686362\n",
       "upper_income     4361240\n",
       "low_income       1131005\n",
       "Name: IncomeClass, dtype: int64"
      ]
     },
     "execution_count": 60,
     "metadata": {},
     "output_type": "execute_result"
    }
   ],
   "source": [
    "df_opm_dept['IncomeClass'].value_counts(dropna=False)"
   ]
  },
  {
   "cell_type": "markdown",
   "id": "7d6376f3",
   "metadata": {},
   "source": [
    "### 4+ person household income ranges"
   ]
  },
  {
   "cell_type": "code",
   "execution_count": 61,
   "id": "3baac8da",
   "metadata": {},
   "outputs": [],
   "source": [
    "df_opm_dept.loc[(df_opm_dept['fam_status']=='married') & (df_opm_dept['n_dependants']>1) & (df_opm_dept['income']<=60499),'IncomeClass']='low_income'\n",
    "df_opm_dept.loc[(df_opm_dept['fam_status']=='single') & (df_opm_dept['n_dependants']>2) & (df_opm_dept['income']<=60499),'IncomeClass']='low_income'\n",
    "df_opm_dept.loc[(df_opm_dept['fam_status']=='living with parents and siblings') & (df_opm_dept['n_dependants']>1) & (df_opm_dept['income']<=60499),'IncomeClass']='low_income'"
   ]
  },
  {
   "cell_type": "code",
   "execution_count": 62,
   "id": "cda61942",
   "metadata": {},
   "outputs": [],
   "source": [
    "df_opm_dept.loc[(df_opm_dept['fam_status']=='married') & (df_opm_dept['n_dependants']>1) & (df_opm_dept['income']>60499) & (df_opm_dept['income']<=181496),'IncomeClass']='mid_income'\n",
    "df_opm_dept.loc[(df_opm_dept['fam_status']=='single') & (df_opm_dept['n_dependants']>2) & (df_opm_dept['income']>60499) & (df_opm_dept['income']<=181496),'IncomeClass']='mid_income'\n",
    "df_opm_dept.loc[(df_opm_dept['fam_status']=='living with parents and siblings') & (df_opm_dept['n_dependants']>1) & (df_opm_dept['income']>60499) & (df_opm_dept['income']<=181496),'IncomeClass']='mid_income'"
   ]
  },
  {
   "cell_type": "code",
   "execution_count": 63,
   "id": "92413d1c",
   "metadata": {},
   "outputs": [],
   "source": [
    "df_opm_dept.loc[(df_opm_dept['fam_status']=='married') & (df_opm_dept['n_dependants']>1) & (df_opm_dept['income']>181496),'IncomeClass']='upper_income'\n",
    "df_opm_dept.loc[(df_opm_dept['fam_status']=='single') & (df_opm_dept['n_dependants']>2) & (df_opm_dept['income']>181496),'IncomeClass']='upper_income'\n",
    "df_opm_dept.loc[(df_opm_dept['fam_status']=='living with parents and siblings') & (df_opm_dept['n_dependants']>1) & (df_opm_dept['income']>181496),'IncomeClass']='upper_income'\n"
   ]
  },
  {
   "cell_type": "code",
   "execution_count": 64,
   "id": "b9f60e20",
   "metadata": {},
   "outputs": [
    {
     "data": {
      "text/plain": [
       "mid_income      23616909\n",
       "upper_income     4513235\n",
       "low_income       4274715\n",
       "Name: IncomeClass, dtype: int64"
      ]
     },
     "execution_count": 64,
     "metadata": {},
     "output_type": "execute_result"
    }
   ],
   "source": [
    "df_opm_dept['IncomeClass'].value_counts(dropna=False)"
   ]
  },
  {
   "cell_type": "code",
   "execution_count": 65,
   "id": "61832ae6",
   "metadata": {},
   "outputs": [
    {
     "data": {
      "text/plain": [
       "<AxesSubplot:ylabel='IncomeClass'>"
      ]
     },
     "execution_count": 65,
     "metadata": {},
     "output_type": "execute_result"
    },
    {
     "data": {
      "image/png": "[encoded data removed]",
      "text/plain": [
       "<Figure size 432x288 with 1 Axes>"
      ]
     },
     "metadata": {},
     "output_type": "display_data"
    }
   ],
   "source": [
    "df_opm_dept['IncomeClass'].value_counts().sort_index().plot.pie()"
   ]
  },
  {
   "cell_type": "code",
   "execution_count": 66,
   "id": "0db71985",
   "metadata": {},
   "outputs": [
    {
     "data": {
      "text/plain": [
       "mid_income      23616909\n",
       "upper_income     4513235\n",
       "low_income       4274715\n",
       "Name: IncomeClass, dtype: int64"
      ]
     },
     "execution_count": 66,
     "metadata": {},
     "output_type": "execute_result"
    }
   ],
   "source": [
    "df_opm_dept['IncomeClass'].value_counts()"
   ]
  },
  {
   "cell_type": "code",
   "execution_count": 67,
   "id": "5ce50c3a",
   "metadata": {},
   "outputs": [
    {
     "data": {
      "text/html": [
       "<div>\n",
       "<style scoped>\n",
       "    .dataframe tbody tr th:only-of-type {\n",
       "        vertical-align: middle;\n",
       "    }\n",
       "\n",
       "    .dataframe tbody tr th {\n",
       "        vertical-align: top;\n",
       "    }\n",
       "\n",
       "    .dataframe thead th {\n",
       "        text-align: right;\n",
       "    }\n",
       "</style>\n",
       "<table border=\"1\" class=\"dataframe\">\n",
       "  <thead>\n",
       "    <tr style=\"text-align: right;\">\n",
       "      <th></th>\n",
       "      <th>order_id</th>\n",
       "      <th>user_id</th>\n",
       "      <th>user_order_number</th>\n",
       "      <th>orders_day_of_week</th>\n",
       "      <th>order_hour_of_day</th>\n",
       "      <th>days_since_prior_order</th>\n",
       "      <th>product_id</th>\n",
       "      <th>add_to_cart_order</th>\n",
       "      <th>reordered</th>\n",
       "      <th>product_name</th>\n",
       "      <th>...</th>\n",
       "      <th>STATE</th>\n",
       "      <th>Age</th>\n",
       "      <th>date_joined</th>\n",
       "      <th>n_dependants</th>\n",
       "      <th>fam_status</th>\n",
       "      <th>income</th>\n",
       "      <th>Region</th>\n",
       "      <th>active_cust_flag</th>\n",
       "      <th>department</th>\n",
       "      <th>Generation</th>\n",
       "    </tr>\n",
       "    <tr>\n",
       "      <th>IncomeClass</th>\n",
       "      <th></th>\n",
       "      <th></th>\n",
       "      <th></th>\n",
       "      <th></th>\n",
       "      <th></th>\n",
       "      <th></th>\n",
       "      <th></th>\n",
       "      <th></th>\n",
       "      <th></th>\n",
       "      <th></th>\n",
       "      <th></th>\n",
       "      <th></th>\n",
       "      <th></th>\n",
       "      <th></th>\n",
       "      <th></th>\n",
       "      <th></th>\n",
       "      <th></th>\n",
       "      <th></th>\n",
       "      <th></th>\n",
       "      <th></th>\n",
       "      <th></th>\n",
       "    </tr>\n",
       "  </thead>\n",
       "  <tbody>\n",
       "    <tr>\n",
       "      <th>low_income</th>\n",
       "      <td>515238</td>\n",
       "      <td>37026</td>\n",
       "      <td>99</td>\n",
       "      <td>7</td>\n",
       "      <td>24</td>\n",
       "      <td>31</td>\n",
       "      <td>43123</td>\n",
       "      <td>109</td>\n",
       "      <td>2</td>\n",
       "      <td>43125</td>\n",
       "      <td>...</td>\n",
       "      <td>51</td>\n",
       "      <td>64</td>\n",
       "      <td>1187</td>\n",
       "      <td>4</td>\n",
       "      <td>4</td>\n",
       "      <td>21924</td>\n",
       "      <td>4</td>\n",
       "      <td>2</td>\n",
       "      <td>21</td>\n",
       "      <td>5</td>\n",
       "    </tr>\n",
       "    <tr>\n",
       "      <th>mid_income</th>\n",
       "      <td>2271482</td>\n",
       "      <td>143090</td>\n",
       "      <td>99</td>\n",
       "      <td>7</td>\n",
       "      <td>24</td>\n",
       "      <td>31</td>\n",
       "      <td>49532</td>\n",
       "      <td>145</td>\n",
       "      <td>2</td>\n",
       "      <td>49534</td>\n",
       "      <td>...</td>\n",
       "      <td>51</td>\n",
       "      <td>64</td>\n",
       "      <td>1187</td>\n",
       "      <td>4</td>\n",
       "      <td>4</td>\n",
       "      <td>82406</td>\n",
       "      <td>4</td>\n",
       "      <td>2</td>\n",
       "      <td>21</td>\n",
       "      <td>5</td>\n",
       "    </tr>\n",
       "    <tr>\n",
       "      <th>upper_income</th>\n",
       "      <td>427965</td>\n",
       "      <td>26093</td>\n",
       "      <td>99</td>\n",
       "      <td>7</td>\n",
       "      <td>24</td>\n",
       "      <td>31</td>\n",
       "      <td>43824</td>\n",
       "      <td>121</td>\n",
       "      <td>2</td>\n",
       "      <td>43825</td>\n",
       "      <td>...</td>\n",
       "      <td>51</td>\n",
       "      <td>64</td>\n",
       "      <td>1187</td>\n",
       "      <td>4</td>\n",
       "      <td>4</td>\n",
       "      <td>21702</td>\n",
       "      <td>4</td>\n",
       "      <td>2</td>\n",
       "      <td>21</td>\n",
       "      <td>5</td>\n",
       "    </tr>\n",
       "  </tbody>\n",
       "</table>\n",
       "<p>3 rows × 33 columns</p>\n",
       "</div>"
      ],
      "text/plain": [
       "              order_id  user_id  user_order_number  orders_day_of_week  \\\n",
       "IncomeClass                                                              \n",
       "low_income      515238    37026                 99                   7   \n",
       "mid_income     2271482   143090                 99                   7   \n",
       "upper_income    427965    26093                 99                   7   \n",
       "\n",
       "              order_hour_of_day  days_since_prior_order  product_id  \\\n",
       "IncomeClass                                                           \n",
       "low_income                   24                      31       43123   \n",
       "mid_income                   24                      31       49532   \n",
       "upper_income                 24                      31       43824   \n",
       "\n",
       "              add_to_cart_order  reordered  product_name  ...  STATE  Age  \\\n",
       "IncomeClass                                               ...               \n",
       "low_income                  109          2         43125  ...     51   64   \n",
       "mid_income                  145          2         49534  ...     51   64   \n",
       "upper_income                121          2         43825  ...     51   64   \n",
       "\n",
       "              date_joined  n_dependants  fam_status  income  Region  \\\n",
       "IncomeClass                                                           \n",
       "low_income           1187             4           4   21924       4   \n",
       "mid_income           1187             4           4   82406       4   \n",
       "upper_income         1187             4           4   21702       4   \n",
       "\n",
       "              active_cust_flag  department  Generation  \n",
       "IncomeClass                                             \n",
       "low_income                   2          21           5  \n",
       "mid_income                   2          21           5  \n",
       "upper_income                 2          21           5  \n",
       "\n",
       "[3 rows x 33 columns]"
      ]
     },
     "execution_count": 67,
     "metadata": {},
     "output_type": "execute_result"
    }
   ],
   "source": [
    "# number of unique values in each column to determine # of users/orders, not number of records\n",
    "df_opm_dept.groupby('IncomeClass').nunique()"
   ]
  },
  {
   "cell_type": "code",
   "execution_count": 68,
   "id": "bcbc1c21",
   "metadata": {},
   "outputs": [
    {
     "data": {
      "text/plain": [
       "Text(0, 0.5, '# of users')"
      ]
     },
     "execution_count": 68,
     "metadata": {},
     "output_type": "execute_result"
    },
    {
     "data": {
      "image/png": "[encoded data removed]",
      "text/plain": [
       "<Figure size 432x288 with 1 Axes>"
      ]
     },
     "metadata": {
      "needs_background": "light"
     },
     "output_type": "display_data"
    }
   ],
   "source": [
    "# bar graph of number of users in income classes\n",
    "bar_ic=df_opm_dept.groupby('IncomeClass')['user_id'].nunique().plot.bar()\n",
    "plt.title('Number of Users in Income Classes')\n",
    "plt.ylabel('# of users')"
   ]
  },
  {
   "cell_type": "code",
   "execution_count": 69,
   "id": "57da3314",
   "metadata": {},
   "outputs": [],
   "source": [
    "# export bar graph\n",
    "bar_ic.figure.savefig(os.path.join(path, '04 Analysis', 'Visualizations', 'bar_income_classes_userct.png'))"
   ]
  },
  {
   "cell_type": "code",
   "execution_count": 70,
   "id": "f1191ba4",
   "metadata": {},
   "outputs": [
    {
     "data": {
      "text/plain": [
       "Text(0, 0.5, '# of orders in millions')"
      ]
     },
     "execution_count": 70,
     "metadata": {},
     "output_type": "execute_result"
    },
    {
     "data": {
      "image/png": "[encoded data removed]",
      "text/plain": [
       "<Figure size 432x288 with 1 Axes>"
      ]
     },
     "metadata": {
      "needs_background": "light"
     },
     "output_type": "display_data"
    }
   ],
   "source": [
    "#bar graph of number of orders in income classes\n",
    "bar_ic2=df_opm_dept.groupby('IncomeClass')['order_id'].nunique().plot.bar(fontsize=12)\n",
    "plt.title('Number of Orders in Income Classes')\n",
    "plt.ylabel('# of orders in millions')"
   ]
  },
  {
   "cell_type": "code",
   "execution_count": 71,
   "id": "5cc7d5ca",
   "metadata": {},
   "outputs": [],
   "source": [
    "bar_ic2.figure.savefig(os.path.join(path, '04 Analysis', 'Visualizations', 'bar_income_classes_orderct.png'))"
   ]
  },
  {
   "cell_type": "code",
   "execution_count": 72,
   "id": "e78491c2",
   "metadata": {},
   "outputs": [
    {
     "data": {
      "text/html": [
       "<div>\n",
       "<style scoped>\n",
       "    .dataframe tbody tr th:only-of-type {\n",
       "        vertical-align: middle;\n",
       "    }\n",
       "\n",
       "    .dataframe tbody tr th {\n",
       "        vertical-align: top;\n",
       "    }\n",
       "\n",
       "    .dataframe thead tr th {\n",
       "        text-align: left;\n",
       "    }\n",
       "\n",
       "    .dataframe thead tr:last-of-type th {\n",
       "        text-align: right;\n",
       "    }\n",
       "</style>\n",
       "<table border=\"1\" class=\"dataframe\">\n",
       "  <thead>\n",
       "    <tr>\n",
       "      <th></th>\n",
       "      <th colspan=\"3\" halign=\"left\">prices</th>\n",
       "    </tr>\n",
       "    <tr>\n",
       "      <th></th>\n",
       "      <th>mean</th>\n",
       "      <th>min</th>\n",
       "      <th>max</th>\n",
       "    </tr>\n",
       "    <tr>\n",
       "      <th>IncomeClass</th>\n",
       "      <th></th>\n",
       "      <th></th>\n",
       "      <th></th>\n",
       "    </tr>\n",
       "  </thead>\n",
       "  <tbody>\n",
       "    <tr>\n",
       "      <th>low_income</th>\n",
       "      <td>6.97570</td>\n",
       "      <td>1.0</td>\n",
       "      <td>25.0</td>\n",
       "    </tr>\n",
       "    <tr>\n",
       "      <th>mid_income</th>\n",
       "      <td>7.90876</td>\n",
       "      <td>1.0</td>\n",
       "      <td>25.0</td>\n",
       "    </tr>\n",
       "    <tr>\n",
       "      <th>upper_income</th>\n",
       "      <td>7.94712</td>\n",
       "      <td>1.0</td>\n",
       "      <td>25.0</td>\n",
       "    </tr>\n",
       "  </tbody>\n",
       "</table>\n",
       "</div>"
      ],
      "text/plain": [
       "               prices           \n",
       "                 mean  min   max\n",
       "IncomeClass                     \n",
       "low_income    6.97570  1.0  25.0\n",
       "mid_income    7.90876  1.0  25.0\n",
       "upper_income  7.94712  1.0  25.0"
      ]
     },
     "execution_count": 72,
     "metadata": {},
     "output_type": "execute_result"
    }
   ],
   "source": [
    "# aggregate min/max/avg of item prices by income class\n",
    "df_opm_dept.groupby('IncomeClass').agg({'prices' : ['mean', 'min', 'max']})"
   ]
  },
  {
   "cell_type": "code",
   "execution_count": 73,
   "id": "c0d0e154",
   "metadata": {},
   "outputs": [
    {
     "data": {
      "text/html": [
       "<div>\n",
       "<style scoped>\n",
       "    .dataframe tbody tr th:only-of-type {\n",
       "        vertical-align: middle;\n",
       "    }\n",
       "\n",
       "    .dataframe tbody tr th {\n",
       "        vertical-align: top;\n",
       "    }\n",
       "\n",
       "    .dataframe thead tr th {\n",
       "        text-align: left;\n",
       "    }\n",
       "\n",
       "    .dataframe thead tr:last-of-type th {\n",
       "        text-align: right;\n",
       "    }\n",
       "</style>\n",
       "<table border=\"1\" class=\"dataframe\">\n",
       "  <thead>\n",
       "    <tr>\n",
       "      <th></th>\n",
       "      <th colspan=\"3\" halign=\"left\">user_order_number</th>\n",
       "    </tr>\n",
       "    <tr>\n",
       "      <th></th>\n",
       "      <th>mean</th>\n",
       "      <th>min</th>\n",
       "      <th>max</th>\n",
       "    </tr>\n",
       "    <tr>\n",
       "      <th>IncomeClass</th>\n",
       "      <th></th>\n",
       "      <th></th>\n",
       "      <th></th>\n",
       "    </tr>\n",
       "  </thead>\n",
       "  <tbody>\n",
       "    <tr>\n",
       "      <th>low_income</th>\n",
       "      <td>16.222944</td>\n",
       "      <td>1</td>\n",
       "      <td>99</td>\n",
       "    </tr>\n",
       "    <tr>\n",
       "      <th>mid_income</th>\n",
       "      <td>17.215452</td>\n",
       "      <td>1</td>\n",
       "      <td>99</td>\n",
       "    </tr>\n",
       "    <tr>\n",
       "      <th>upper_income</th>\n",
       "      <td>17.630311</td>\n",
       "      <td>1</td>\n",
       "      <td>99</td>\n",
       "    </tr>\n",
       "  </tbody>\n",
       "</table>\n",
       "</div>"
      ],
      "text/plain": [
       "             user_order_number        \n",
       "                          mean min max\n",
       "IncomeClass                           \n",
       "low_income           16.222944   1  99\n",
       "mid_income           17.215452   1  99\n",
       "upper_income         17.630311   1  99"
      ]
     },
     "execution_count": 73,
     "metadata": {},
     "output_type": "execute_result"
    }
   ],
   "source": [
    "# aggregate min/max/avg of total number of orders by income class\n",
    "df_opm_dept.groupby('IncomeClass').agg({'user_order_number' : ['mean', 'min', 'max']})\n",
    "# this is using every user order number, so is lower than it should be"
   ]
  },
  {
   "cell_type": "code",
   "execution_count": 74,
   "id": "07eb6480",
   "metadata": {},
   "outputs": [],
   "source": [
    "#crosstab to compare Income class to Regions\n",
    "crosstab4 = pd.crosstab(df_opm_dept['IncomeClass'], df_opm_dept['Region'], dropna = False)\n"
   ]
  },
  {
   "cell_type": "code",
   "execution_count": 75,
   "id": "0af88615",
   "metadata": {},
   "outputs": [],
   "source": [
    "crosstab4.to_clipboard()"
   ]
  },
  {
   "cell_type": "code",
   "execution_count": 76,
   "id": "c256ad81",
   "metadata": {},
   "outputs": [],
   "source": [
    "#crosstab to compare Income class to departments\n",
    "crosstab5 = pd.crosstab(df_opm_dept['IncomeClass'], df_opm_dept['department'], dropna = False)\n"
   ]
  },
  {
   "cell_type": "code",
   "execution_count": 77,
   "id": "b24ee8b1",
   "metadata": {},
   "outputs": [],
   "source": [
    "crosstab5.to_clipboard()"
   ]
  },
  {
   "cell_type": "code",
   "execution_count": 81,
   "id": "6490e6bc",
   "metadata": {},
   "outputs": [],
   "source": [
    "pd.set_option('display.max_columns', None)"
   ]
  },
  {
   "cell_type": "code",
   "execution_count": 90,
   "id": "4c6f3b44",
   "metadata": {},
   "outputs": [],
   "source": [
    "df_opm_dept.to_pickle(os.path.join(path, '02 Data', 'Prepared Data', 'opcd.pkl'))"
   ]
  },
  {
   "cell_type": "markdown",
   "id": "e608e7dd",
   "metadata": {},
   "source": [
    "# 08 Further Analysis to Complete Project"
   ]
  },
  {
   "cell_type": "code",
   "execution_count": 95,
   "id": "329f6510",
   "metadata": {},
   "outputs": [
    {
     "data": {
      "image/png": "[encoded data removed]",
      "text/plain": [
       "<Figure size 432x288 with 1 Axes>"
      ]
     },
     "metadata": {
      "needs_background": "light"
     },
     "output_type": "display_data"
    }
   ],
   "source": [
    "# bar graph to depict popular departments\n",
    "bar_depts=df_opm_dept['department'].value_counts().plot.bar()\n",
    "plt.title('Products Sold by Department')\n",
    "plt.tight_layout()\n"
   ]
  },
  {
   "cell_type": "code",
   "execution_count": 96,
   "id": "000b1441",
   "metadata": {},
   "outputs": [],
   "source": [
    "# export bar for popular departments\n",
    "bar_depts.figure.savefig(os.path.join(path, '04 Analysis', 'Visualizations', 'bar_prods.png'))"
   ]
  },
  {
   "cell_type": "markdown",
   "id": "24025404",
   "metadata": {},
   "source": [
    "### Explore products that are greater than 15 dollars"
   ]
  },
  {
   "cell_type": "code",
   "execution_count": 97,
   "id": "c7f6c660",
   "metadata": {},
   "outputs": [],
   "source": [
    "#create flag for items > $15\n",
    "df_opm_dept.loc[df_opm_dept['prices']>15, 'upscale items']='high price'\n"
   ]
  },
  {
   "cell_type": "code",
   "execution_count": 98,
   "id": "ffc44c60",
   "metadata": {},
   "outputs": [],
   "source": [
    "df_opm_dept.loc[df_opm_dept['prices']<=15, 'upscale items']='low price'"
   ]
  },
  {
   "cell_type": "code",
   "execution_count": 103,
   "id": "1e54e581",
   "metadata": {},
   "outputs": [
    {
     "data": {
      "text/plain": [
       "low price     31987181\n",
       "high price      412551\n",
       "NaN               5127\n",
       "Name: upscale items, dtype: int64"
      ]
     },
     "execution_count": 103,
     "metadata": {},
     "output_type": "execute_result"
    }
   ],
   "source": [
    "#value counts for low/high priced items ; NaN is still the wildly priced items & intentional\n",
    "df_opm_dept['upscale items'].value_counts(dropna=False)"
   ]
  },
  {
   "cell_type": "code",
   "execution_count": 104,
   "id": "f9fa3707",
   "metadata": {},
   "outputs": [],
   "source": [
    "#name a new dataframe with the 'upscale items flag'\n",
    "df_5=df_opm_dept[df_opm_dept['upscale items']=='high price']"
   ]
  },
  {
   "cell_type": "code",
   "execution_count": 110,
   "id": "f79695a6",
   "metadata": {},
   "outputs": [
    {
     "data": {
      "text/plain": [
       "meat seafood    412323\n",
       "pantry             228\n",
       "Name: department, dtype: int64"
      ]
     },
     "execution_count": 110,
     "metadata": {},
     "output_type": "execute_result"
    }
   ],
   "source": [
    "#value counts in department in the upscale dataset\n",
    "df_5['department'].value_counts()"
   ]
  },
  {
   "cell_type": "code",
   "execution_count": 112,
   "id": "e1af494f",
   "metadata": {},
   "outputs": [
    {
     "data": {
      "text/plain": [
       "produce            9479291\n",
       "dairy eggs         5398747\n",
       "snacks             2887550\n",
       "beverages          2688123\n",
       "frozen             2234743\n",
       "pantry             1875369\n",
       "bakery             1172428\n",
       "canned goods       1068058\n",
       "deli               1051249\n",
       "dry goods pasta     866627\n",
       "household           738666\n",
       "meat seafood        708927\n",
       "breakfast           703033\n",
       "personal care       447572\n",
       "babies              423802\n",
       "international       269253\n",
       "alcohol             153696\n",
       "pets                 97716\n",
       "missing              69145\n",
       "other                36291\n",
       "bulk                 34573\n",
       "Name: department, dtype: int64"
      ]
     },
     "execution_count": 112,
     "metadata": {},
     "output_type": "execute_result"
    }
   ],
   "source": [
    "#look at overall dataset for all value counts for items purchased\n",
    "df_opm_dept['department'].value_counts()"
   ]
  },
  {
   "cell_type": "code",
   "execution_count": null,
   "id": "2e86e914",
   "metadata": {},
   "outputs": [],
   "source": []
  }
 ],
 "metadata": {
  "kernelspec": {
   "display_name": "Python 3 (ipykernel)",
   "language": "python",
   "name": "python3"
  },
  "language_info": {
   "codemirror_mode": {
    "name": "ipython",
    "version": 3
   },
   "file_extension": ".py",
   "mimetype": "text/x-python",
   "name": "python",
   "nbconvert_exporter": "python",
   "pygments_lexer": "ipython3",
   "version": "3.9.7"
  }
 },
 "nbformat": 4,
 "nbformat_minor": 5
}
