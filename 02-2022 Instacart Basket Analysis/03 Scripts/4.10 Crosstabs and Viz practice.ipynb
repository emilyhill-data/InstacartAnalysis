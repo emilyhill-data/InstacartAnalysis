{
 "cells": [
  {
   "cell_type": "markdown",
   "id": "0e25b701",
   "metadata": {},
   "source": [
    "## 01 Import Libraries\n",
    "## 02 Import Data\n",
    "## 03 Explore Data\n",
    "## 04 Visualization Work\n",
    "## 05 Crosstabs exported to Excel\n",
    "## 06 New Variable - Parental Status\n",
    "### - Continue Crosstabs\n",
    "## 07 Price Data and addt'l Viz"
   ]
  },
  {
   "cell_type": "markdown",
   "id": "d448facc",
   "metadata": {},
   "source": [
    "# 01 Import Libraries"
   ]
  },
  {
   "cell_type": "code",
   "execution_count": 1,
   "id": "c2f2cda3",
   "metadata": {},
   "outputs": [],
   "source": [
    "# import libraries\n",
    "import pandas as pd\n",
    "import numpy as np\n",
    "import os\n",
    "import matplotlib.pyplot as plt\n",
    "import seaborn as sns\n",
    "import scipy"
   ]
  },
  {
   "cell_type": "markdown",
   "id": "643ec889",
   "metadata": {},
   "source": [
    "# 02 Import Data"
   ]
  },
  {
   "cell_type": "code",
   "execution_count": 2,
   "id": "4f7ce92e",
   "metadata": {},
   "outputs": [],
   "source": [
    "# import data\n",
    "path = r'C:\\Users\\erhil\\OneDrive\\Career Foundry Program\\Immersion Data Analytics Course\\A4 - Python Fundamentals for Data Analysts\\02-2022 Instacart Basket Analysis'\n",
    "df = pd.read_pickle(os.path.join(path, '02 Data', 'Prepared Data', 'opcd.pkl'))"
   ]
  },
  {
   "cell_type": "markdown",
   "id": "008ebd87",
   "metadata": {},
   "source": [
    "# 03 Explore Data"
   ]
  },
  {
   "cell_type": "code",
   "execution_count": 3,
   "id": "82907bf8",
   "metadata": {},
   "outputs": [],
   "source": [
    "pd.set_option('display.max_columns', None)"
   ]
  },
  {
   "cell_type": "code",
   "execution_count": 4,
   "id": "584e5b85",
   "metadata": {},
   "outputs": [
    {
     "data": {
      "text/html": [
       "<div>\n",
       "<style scoped>\n",
       "    .dataframe tbody tr th:only-of-type {\n",
       "        vertical-align: middle;\n",
       "    }\n",
       "\n",
       "    .dataframe tbody tr th {\n",
       "        vertical-align: top;\n",
       "    }\n",
       "\n",
       "    .dataframe thead th {\n",
       "        text-align: right;\n",
       "    }\n",
       "</style>\n",
       "<table border=\"1\" class=\"dataframe\">\n",
       "  <thead>\n",
       "    <tr style=\"text-align: right;\">\n",
       "      <th></th>\n",
       "      <th>order_id</th>\n",
       "      <th>user_id</th>\n",
       "      <th>user_order_number</th>\n",
       "      <th>orders_day_of_week</th>\n",
       "      <th>order_hour_of_day</th>\n",
       "      <th>days_since_prior_order</th>\n",
       "      <th>product_id</th>\n",
       "      <th>add_to_cart_order</th>\n",
       "      <th>reordered</th>\n",
       "      <th>product_name</th>\n",
       "      <th>aisle_id</th>\n",
       "      <th>department_id</th>\n",
       "      <th>prices</th>\n",
       "      <th>price_range_loc</th>\n",
       "      <th>busiest_days</th>\n",
       "      <th>busiest_period_of_day</th>\n",
       "      <th>max_order</th>\n",
       "      <th>loyalty_flag</th>\n",
       "      <th>average_product_price</th>\n",
       "      <th>spending_flag</th>\n",
       "      <th>median_dspo</th>\n",
       "      <th>order_freq_flag</th>\n",
       "      <th>Gender</th>\n",
       "      <th>STATE</th>\n",
       "      <th>Age</th>\n",
       "      <th>date_joined</th>\n",
       "      <th>n_dependants</th>\n",
       "      <th>fam_status</th>\n",
       "      <th>income</th>\n",
       "      <th>Region</th>\n",
       "      <th>active_cust_flag</th>\n",
       "      <th>department</th>\n",
       "      <th>Generation</th>\n",
       "      <th>IncomeClass</th>\n",
       "    </tr>\n",
       "  </thead>\n",
       "  <tbody>\n",
       "    <tr>\n",
       "      <th>0</th>\n",
       "      <td>2539329</td>\n",
       "      <td>1</td>\n",
       "      <td>1</td>\n",
       "      <td>2</td>\n",
       "      <td>8</td>\n",
       "      <td>NaN</td>\n",
       "      <td>196</td>\n",
       "      <td>1</td>\n",
       "      <td>0</td>\n",
       "      <td>Soda</td>\n",
       "      <td>77</td>\n",
       "      <td>7</td>\n",
       "      <td>9.0</td>\n",
       "      <td>Mid-range product</td>\n",
       "      <td>regularly busy</td>\n",
       "      <td>regularly busy time</td>\n",
       "      <td>10</td>\n",
       "      <td>new customer</td>\n",
       "      <td>6.367797</td>\n",
       "      <td>low spender</td>\n",
       "      <td>20.5</td>\n",
       "      <td>non-freq cust</td>\n",
       "      <td>Female</td>\n",
       "      <td>Alabama</td>\n",
       "      <td>31</td>\n",
       "      <td>2/17/2019</td>\n",
       "      <td>3</td>\n",
       "      <td>married</td>\n",
       "      <td>40423</td>\n",
       "      <td>South</td>\n",
       "      <td>active</td>\n",
       "      <td>beverages</td>\n",
       "      <td>Millenial(26-41)</td>\n",
       "      <td>low_income</td>\n",
       "    </tr>\n",
       "    <tr>\n",
       "      <th>1</th>\n",
       "      <td>2398795</td>\n",
       "      <td>1</td>\n",
       "      <td>2</td>\n",
       "      <td>3</td>\n",
       "      <td>7</td>\n",
       "      <td>15.0</td>\n",
       "      <td>196</td>\n",
       "      <td>1</td>\n",
       "      <td>1</td>\n",
       "      <td>Soda</td>\n",
       "      <td>77</td>\n",
       "      <td>7</td>\n",
       "      <td>9.0</td>\n",
       "      <td>Mid-range product</td>\n",
       "      <td>least busy</td>\n",
       "      <td>regularly busy time</td>\n",
       "      <td>10</td>\n",
       "      <td>new customer</td>\n",
       "      <td>6.367797</td>\n",
       "      <td>low spender</td>\n",
       "      <td>20.5</td>\n",
       "      <td>non-freq cust</td>\n",
       "      <td>Female</td>\n",
       "      <td>Alabama</td>\n",
       "      <td>31</td>\n",
       "      <td>2/17/2019</td>\n",
       "      <td>3</td>\n",
       "      <td>married</td>\n",
       "      <td>40423</td>\n",
       "      <td>South</td>\n",
       "      <td>active</td>\n",
       "      <td>beverages</td>\n",
       "      <td>Millenial(26-41)</td>\n",
       "      <td>low_income</td>\n",
       "    </tr>\n",
       "    <tr>\n",
       "      <th>2</th>\n",
       "      <td>473747</td>\n",
       "      <td>1</td>\n",
       "      <td>3</td>\n",
       "      <td>3</td>\n",
       "      <td>12</td>\n",
       "      <td>21.0</td>\n",
       "      <td>196</td>\n",
       "      <td>1</td>\n",
       "      <td>1</td>\n",
       "      <td>Soda</td>\n",
       "      <td>77</td>\n",
       "      <td>7</td>\n",
       "      <td>9.0</td>\n",
       "      <td>Mid-range product</td>\n",
       "      <td>least busy</td>\n",
       "      <td>regularly busy time</td>\n",
       "      <td>10</td>\n",
       "      <td>new customer</td>\n",
       "      <td>6.367797</td>\n",
       "      <td>low spender</td>\n",
       "      <td>20.5</td>\n",
       "      <td>non-freq cust</td>\n",
       "      <td>Female</td>\n",
       "      <td>Alabama</td>\n",
       "      <td>31</td>\n",
       "      <td>2/17/2019</td>\n",
       "      <td>3</td>\n",
       "      <td>married</td>\n",
       "      <td>40423</td>\n",
       "      <td>South</td>\n",
       "      <td>active</td>\n",
       "      <td>beverages</td>\n",
       "      <td>Millenial(26-41)</td>\n",
       "      <td>low_income</td>\n",
       "    </tr>\n",
       "    <tr>\n",
       "      <th>3</th>\n",
       "      <td>2254736</td>\n",
       "      <td>1</td>\n",
       "      <td>4</td>\n",
       "      <td>4</td>\n",
       "      <td>7</td>\n",
       "      <td>29.0</td>\n",
       "      <td>196</td>\n",
       "      <td>1</td>\n",
       "      <td>1</td>\n",
       "      <td>Soda</td>\n",
       "      <td>77</td>\n",
       "      <td>7</td>\n",
       "      <td>9.0</td>\n",
       "      <td>Mid-range product</td>\n",
       "      <td>least busy</td>\n",
       "      <td>regularly busy time</td>\n",
       "      <td>10</td>\n",
       "      <td>new customer</td>\n",
       "      <td>6.367797</td>\n",
       "      <td>low spender</td>\n",
       "      <td>20.5</td>\n",
       "      <td>non-freq cust</td>\n",
       "      <td>Female</td>\n",
       "      <td>Alabama</td>\n",
       "      <td>31</td>\n",
       "      <td>2/17/2019</td>\n",
       "      <td>3</td>\n",
       "      <td>married</td>\n",
       "      <td>40423</td>\n",
       "      <td>South</td>\n",
       "      <td>active</td>\n",
       "      <td>beverages</td>\n",
       "      <td>Millenial(26-41)</td>\n",
       "      <td>low_income</td>\n",
       "    </tr>\n",
       "    <tr>\n",
       "      <th>4</th>\n",
       "      <td>431534</td>\n",
       "      <td>1</td>\n",
       "      <td>5</td>\n",
       "      <td>4</td>\n",
       "      <td>15</td>\n",
       "      <td>28.0</td>\n",
       "      <td>196</td>\n",
       "      <td>1</td>\n",
       "      <td>1</td>\n",
       "      <td>Soda</td>\n",
       "      <td>77</td>\n",
       "      <td>7</td>\n",
       "      <td>9.0</td>\n",
       "      <td>Mid-range product</td>\n",
       "      <td>least busy</td>\n",
       "      <td>busiest time</td>\n",
       "      <td>10</td>\n",
       "      <td>new customer</td>\n",
       "      <td>6.367797</td>\n",
       "      <td>low spender</td>\n",
       "      <td>20.5</td>\n",
       "      <td>non-freq cust</td>\n",
       "      <td>Female</td>\n",
       "      <td>Alabama</td>\n",
       "      <td>31</td>\n",
       "      <td>2/17/2019</td>\n",
       "      <td>3</td>\n",
       "      <td>married</td>\n",
       "      <td>40423</td>\n",
       "      <td>South</td>\n",
       "      <td>active</td>\n",
       "      <td>beverages</td>\n",
       "      <td>Millenial(26-41)</td>\n",
       "      <td>low_income</td>\n",
       "    </tr>\n",
       "  </tbody>\n",
       "</table>\n",
       "</div>"
      ],
      "text/plain": [
       "   order_id  user_id  user_order_number  orders_day_of_week  \\\n",
       "0   2539329        1                  1                   2   \n",
       "1   2398795        1                  2                   3   \n",
       "2    473747        1                  3                   3   \n",
       "3   2254736        1                  4                   4   \n",
       "4    431534        1                  5                   4   \n",
       "\n",
       "   order_hour_of_day  days_since_prior_order  product_id  add_to_cart_order  \\\n",
       "0                  8                     NaN         196                  1   \n",
       "1                  7                    15.0         196                  1   \n",
       "2                 12                    21.0         196                  1   \n",
       "3                  7                    29.0         196                  1   \n",
       "4                 15                    28.0         196                  1   \n",
       "\n",
       "   reordered product_name  aisle_id  department_id  prices    price_range_loc  \\\n",
       "0          0         Soda        77              7     9.0  Mid-range product   \n",
       "1          1         Soda        77              7     9.0  Mid-range product   \n",
       "2          1         Soda        77              7     9.0  Mid-range product   \n",
       "3          1         Soda        77              7     9.0  Mid-range product   \n",
       "4          1         Soda        77              7     9.0  Mid-range product   \n",
       "\n",
       "     busiest_days busiest_period_of_day  max_order  loyalty_flag  \\\n",
       "0  regularly busy   regularly busy time         10  new customer   \n",
       "1      least busy   regularly busy time         10  new customer   \n",
       "2      least busy   regularly busy time         10  new customer   \n",
       "3      least busy   regularly busy time         10  new customer   \n",
       "4      least busy          busiest time         10  new customer   \n",
       "\n",
       "   average_product_price spending_flag  median_dspo order_freq_flag  Gender  \\\n",
       "0               6.367797   low spender         20.5   non-freq cust  Female   \n",
       "1               6.367797   low spender         20.5   non-freq cust  Female   \n",
       "2               6.367797   low spender         20.5   non-freq cust  Female   \n",
       "3               6.367797   low spender         20.5   non-freq cust  Female   \n",
       "4               6.367797   low spender         20.5   non-freq cust  Female   \n",
       "\n",
       "     STATE  Age date_joined  n_dependants fam_status  income Region  \\\n",
       "0  Alabama   31   2/17/2019             3    married   40423  South   \n",
       "1  Alabama   31   2/17/2019             3    married   40423  South   \n",
       "2  Alabama   31   2/17/2019             3    married   40423  South   \n",
       "3  Alabama   31   2/17/2019             3    married   40423  South   \n",
       "4  Alabama   31   2/17/2019             3    married   40423  South   \n",
       "\n",
       "  active_cust_flag department        Generation IncomeClass  \n",
       "0           active  beverages  Millenial(26-41)  low_income  \n",
       "1           active  beverages  Millenial(26-41)  low_income  \n",
       "2           active  beverages  Millenial(26-41)  low_income  \n",
       "3           active  beverages  Millenial(26-41)  low_income  \n",
       "4           active  beverages  Millenial(26-41)  low_income  "
      ]
     },
     "execution_count": 4,
     "metadata": {},
     "output_type": "execute_result"
    }
   ],
   "source": [
    "df.head()"
   ]
  },
  {
   "cell_type": "markdown",
   "id": "18c26f9c",
   "metadata": {},
   "source": [
    "# 04 Visualizations"
   ]
  },
  {
   "cell_type": "code",
   "execution_count": 5,
   "id": "b919e402",
   "metadata": {},
   "outputs": [
    {
     "data": {
      "image/png": "[encoded data removed]",
      "text/plain": [
       "<Figure size 432x288 with 1 Axes>"
      ]
     },
     "metadata": {
      "needs_background": "light"
     },
     "output_type": "display_data"
    }
   ],
   "source": [
    "bar_gen=df['Generation'].value_counts().plot.bar()\n",
    "plt.title('Number of Orders by Generation')\n",
    "plt.ylabel('# of products in millions')\n",
    "plt.tight_layout()"
   ]
  },
  {
   "cell_type": "code",
   "execution_count": 6,
   "id": "2b660145",
   "metadata": {},
   "outputs": [],
   "source": [
    "bar_gen.figure.savefig(os.path.join(path, '04 Analysis', 'Visualizations', 'bar_gen_better.jpg'))"
   ]
  },
  {
   "cell_type": "code",
   "execution_count": 7,
   "id": "74286233",
   "metadata": {},
   "outputs": [
    {
     "data": {
      "image/png": "[encoded data removed]",
      "text/plain": [
       "<Figure size 432x288 with 1 Axes>"
      ]
     },
     "metadata": {},
     "output_type": "display_data"
    }
   ],
   "source": [
    "pie_loyalty=df['loyalty_flag'].value_counts().plot.pie()\n",
    "plt.title('Count of Customer Types')\n",
    "plt.tight_layout()"
   ]
  },
  {
   "cell_type": "code",
   "execution_count": 8,
   "id": "2f5aad99",
   "metadata": {},
   "outputs": [],
   "source": [
    "pie_loyalty.figure.savefig(os.path.join(path, '04 Analysis', 'Visualizations', 'pie_loyalty.jpg'))"
   ]
  },
  {
   "cell_type": "code",
   "execution_count": 9,
   "id": "8749de7a",
   "metadata": {},
   "outputs": [
    {
     "data": {
      "image/png": "[encoded data removed]",
      "text/plain": [
       "<Figure size 432x288 with 1 Axes>"
      ]
     },
     "metadata": {
      "needs_background": "light"
     },
     "output_type": "display_data"
    }
   ],
   "source": [
    "hist_price2=df['prices'].plot.hist(bins=10)\n",
    "plt.title('Popularity of Products by Price')\n",
    "plt.xlabel('price')\n",
    "plt.tight_layout()"
   ]
  },
  {
   "cell_type": "code",
   "execution_count": 10,
   "id": "8acc2838",
   "metadata": {},
   "outputs": [],
   "source": [
    "hist_price2.figure.savefig(os.path.join(path, '04 Analysis', 'Visualizations', 'hist_price2.jpg'))"
   ]
  },
  {
   "cell_type": "code",
   "execution_count": null,
   "id": "8249edfe",
   "metadata": {},
   "outputs": [],
   "source": []
  },
  {
   "cell_type": "markdown",
   "id": "fb23820b",
   "metadata": {},
   "source": [
    "# 05 Crosstabs"
   ]
  },
  {
   "cell_type": "code",
   "execution_count": 11,
   "id": "b150342f",
   "metadata": {},
   "outputs": [
    {
     "data": {
      "text/plain": [
       "freq cust        21559853\n",
       "reg cust          7208564\n",
       "non-freq cust     3636437\n",
       "NaN                     5\n",
       "Name: order_freq_flag, dtype: int64"
      ]
     },
     "execution_count": 11,
     "metadata": {},
     "output_type": "execute_result"
    }
   ],
   "source": [
    "df['order_freq_flag'].value_counts(dropna=False)"
   ]
  },
  {
   "cell_type": "code",
   "execution_count": 12,
   "id": "2740dab8",
   "metadata": {},
   "outputs": [],
   "source": [
    "crosstab=pd.crosstab(df['order_freq_flag'], df['IncomeClass'], dropna = False)"
   ]
  },
  {
   "cell_type": "code",
   "execution_count": 13,
   "id": "454bd712",
   "metadata": {},
   "outputs": [],
   "source": [
    "crosstab.to_clipboard()"
   ]
  },
  {
   "cell_type": "code",
   "execution_count": 14,
   "id": "c399b469",
   "metadata": {},
   "outputs": [],
   "source": [
    "crosstab2=pd.crosstab(df['loyalty_flag'], df['days_since_prior_order'], dropna = False)"
   ]
  },
  {
   "cell_type": "code",
   "execution_count": 15,
   "id": "3ff4bd80",
   "metadata": {},
   "outputs": [],
   "source": [
    "crosstab2.to_clipboard()"
   ]
  },
  {
   "cell_type": "code",
   "execution_count": 16,
   "id": "2b4c1dfd",
   "metadata": {},
   "outputs": [],
   "source": [
    "crosstab3=pd.crosstab(df['Generation'], df['department'], dropna=False)"
   ]
  },
  {
   "cell_type": "code",
   "execution_count": 17,
   "id": "5e0d92c4",
   "metadata": {},
   "outputs": [],
   "source": [
    "crosstab3.to_clipboard()"
   ]
  },
  {
   "cell_type": "markdown",
   "id": "565fbe83",
   "metadata": {},
   "source": [
    "## Create a variable for parental status"
   ]
  },
  {
   "cell_type": "code",
   "execution_count": 18,
   "id": "7a71ff64",
   "metadata": {},
   "outputs": [],
   "source": [
    "# create a variable for parental status\n",
    "df.loc[(df['n_dependants']==0),'ParentalStatus']='not a parent'"
   ]
  },
  {
   "cell_type": "code",
   "execution_count": 19,
   "id": "ad9455be",
   "metadata": {},
   "outputs": [],
   "source": [
    "df.loc[(df['n_dependants']>0),'ParentalStatus']='parent'"
   ]
  },
  {
   "cell_type": "code",
   "execution_count": 20,
   "id": "d782c6ea",
   "metadata": {},
   "outputs": [
    {
     "data": {
      "text/plain": [
       "parent          24307356\n",
       "not a parent     8097503\n",
       "Name: ParentalStatus, dtype: int64"
      ]
     },
     "execution_count": 20,
     "metadata": {},
     "output_type": "execute_result"
    }
   ],
   "source": [
    "df['ParentalStatus'].value_counts(dropna=False)"
   ]
  },
  {
   "cell_type": "code",
   "execution_count": 21,
   "id": "4dde2fca",
   "metadata": {},
   "outputs": [],
   "source": [
    "crosstab4=pd.crosstab(df['ParentalStatus'], df['department'], dropna=False)"
   ]
  },
  {
   "cell_type": "code",
   "execution_count": 22,
   "id": "6281757c",
   "metadata": {},
   "outputs": [],
   "source": [
    "crosstab4.to_clipboard()"
   ]
  },
  {
   "cell_type": "code",
   "execution_count": 23,
   "id": "5936b6ff",
   "metadata": {},
   "outputs": [],
   "source": [
    "crosstab5=pd.crosstab(df['IncomeClass'], df['department'], dropna=False)"
   ]
  },
  {
   "cell_type": "code",
   "execution_count": 24,
   "id": "67439b5b",
   "metadata": {},
   "outputs": [],
   "source": [
    "crosstab5.to_clipboard()"
   ]
  },
  {
   "cell_type": "code",
   "execution_count": 25,
   "id": "5826d085",
   "metadata": {},
   "outputs": [],
   "source": [
    "crosstab6=pd.crosstab(df['prices'], df['Generation'], dropna=False)"
   ]
  },
  {
   "cell_type": "code",
   "execution_count": 26,
   "id": "d3c2a5b2",
   "metadata": {},
   "outputs": [],
   "source": [
    "crosstab6.to_clipboard()"
   ]
  },
  {
   "cell_type": "code",
   "execution_count": 27,
   "id": "34421f98",
   "metadata": {},
   "outputs": [],
   "source": [
    "df.loc[(df['prices']<5), 'PriceRange']='less than 5'"
   ]
  },
  {
   "cell_type": "code",
   "execution_count": 28,
   "id": "4b314225",
   "metadata": {},
   "outputs": [],
   "source": [
    "df.loc[(df['prices']>=5) & (df['prices']<10), 'PriceRange']='5-9.99'"
   ]
  },
  {
   "cell_type": "code",
   "execution_count": 29,
   "id": "ce8fd4c8",
   "metadata": {},
   "outputs": [],
   "source": [
    "df.loc[(df['prices']>=10) & (df['prices']<15), 'PriceRange']='10-14.99'"
   ]
  },
  {
   "cell_type": "code",
   "execution_count": 30,
   "id": "dbf61c8b",
   "metadata": {},
   "outputs": [],
   "source": [
    "df.loc[(df['prices']>=15) & (df['prices']<20), 'PriceRange']='15-19.99'"
   ]
  },
  {
   "cell_type": "code",
   "execution_count": 31,
   "id": "683c25cd",
   "metadata": {},
   "outputs": [],
   "source": [
    "df.loc[(df['prices']>=20), 'PriceRange']='20+'"
   ]
  },
  {
   "cell_type": "code",
   "execution_count": 32,
   "id": "a634522f",
   "metadata": {},
   "outputs": [
    {
     "data": {
      "text/plain": [
       "5-9.99         11860520\n",
       "10-14.99       10128983\n",
       "less than 5     9900417\n",
       "15-19.99         276816\n",
       "20+              232996\n",
       "NaN                5127\n",
       "Name: PriceRange, dtype: int64"
      ]
     },
     "execution_count": 32,
     "metadata": {},
     "output_type": "execute_result"
    }
   ],
   "source": [
    "# this includes the 2%milk and cottage cheese that were priced crazy in the NaN values: OK!\n",
    "df['PriceRange'].value_counts(dropna=False)"
   ]
  },
  {
   "cell_type": "code",
   "execution_count": 33,
   "id": "50b2fad4",
   "metadata": {},
   "outputs": [],
   "source": [
    "crosstab7=pd.crosstab(df['order_freq_flag'], df['PriceRange'])"
   ]
  },
  {
   "cell_type": "code",
   "execution_count": 34,
   "id": "cac3f860",
   "metadata": {},
   "outputs": [],
   "source": [
    "crosstab7.to_clipboard()"
   ]
  },
  {
   "cell_type": "markdown",
   "id": "932d8ded",
   "metadata": {},
   "source": [
    "## 07 Price Data and Visualization"
   ]
  },
  {
   "cell_type": "code",
   "execution_count": 35,
   "id": "0f734c80",
   "metadata": {},
   "outputs": [
    {
     "data": {
      "text/plain": [
       "1.0     115143\n",
       "1.1     242782\n",
       "1.2     256258\n",
       "1.3     425691\n",
       "1.4     392209\n",
       "         ...  \n",
       "24.7      7283\n",
       "24.8       410\n",
       "24.9      5781\n",
       "25.0     13772\n",
       "NaN       5127\n",
       "Name: prices, Length: 241, dtype: int64"
      ]
     },
     "execution_count": 35,
     "metadata": {},
     "output_type": "execute_result"
    }
   ],
   "source": [
    "df['prices'].value_counts(dropna=False).sort_index()"
   ]
  },
  {
   "cell_type": "code",
   "execution_count": 36,
   "id": "4ebc237d",
   "metadata": {},
   "outputs": [
    {
     "data": {
      "text/plain": [
       "count    3.239973e+07\n",
       "mean     7.790994e+00\n",
       "std      4.241809e+00\n",
       "min      1.000000e+00\n",
       "25%      4.200000e+00\n",
       "50%      7.400000e+00\n",
       "75%      1.130000e+01\n",
       "max      2.500000e+01\n",
       "Name: prices, dtype: float64"
      ]
     },
     "execution_count": 36,
     "metadata": {},
     "output_type": "execute_result"
    }
   ],
   "source": [
    "df['prices'].describe()"
   ]
  },
  {
   "cell_type": "code",
   "execution_count": 37,
   "id": "b4b57fae",
   "metadata": {},
   "outputs": [
    {
     "data": {
      "text/plain": [
       "23.2    14866\n",
       "23.3     4803\n",
       "23.4      368\n",
       "23.5     1924\n",
       "23.6     8458\n",
       "23.7     1346\n",
       "23.8    12585\n",
       "23.9     2074\n",
       "24.0     4327\n",
       "24.1      978\n",
       "24.2    15891\n",
       "24.3     2889\n",
       "24.4      499\n",
       "24.5     2148\n",
       "24.6     1962\n",
       "24.7     7283\n",
       "24.8      410\n",
       "24.9     5781\n",
       "25.0    13772\n",
       "NaN      5127\n",
       "Name: prices, dtype: int64"
      ]
     },
     "execution_count": 37,
     "metadata": {},
     "output_type": "execute_result"
    }
   ],
   "source": [
    "df['prices'].value_counts(dropna=False).sort_index().tail(20)"
   ]
  },
  {
   "cell_type": "code",
   "execution_count": 38,
   "id": "a56652aa",
   "metadata": {},
   "outputs": [
    {
     "data": {
      "image/png": "[encoded data removed]",
      "text/plain": [
       "<Figure size 432x288 with 1 Axes>"
      ]
     },
     "metadata": {
      "needs_background": "light"
     },
     "output_type": "display_data"
    }
   ],
   "source": [
    "hist_price2=df['prices'].plot.hist(bins=10)\n",
    "plt.title('Popularity of Products by Price')\n",
    "plt.xlabel('price')\n",
    "plt.tight_layout()"
   ]
  },
  {
   "cell_type": "code",
   "execution_count": 39,
   "id": "54aeb3d4",
   "metadata": {},
   "outputs": [],
   "source": [
    "hist_price2.figure.savefig(os.path.join(path, '04 Analysis', 'Visualizations', 'hist_price2.jpg'))"
   ]
  },
  {
   "cell_type": "code",
   "execution_count": 40,
   "id": "6dd4e74c",
   "metadata": {},
   "outputs": [],
   "source": [
    "crosstab8=pd.crosstab(df['Gender'], df['department'], dropna=False)"
   ]
  },
  {
   "cell_type": "code",
   "execution_count": 41,
   "id": "dae6562c",
   "metadata": {},
   "outputs": [],
   "source": [
    "crosstab8.to_clipboard()"
   ]
  },
  {
   "cell_type": "code",
   "execution_count": 42,
   "id": "cac01d4a",
   "metadata": {},
   "outputs": [],
   "source": [
    "crosstab9=pd.crosstab(df['ParentalStatus'], df['PriceRange'], dropna=False)"
   ]
  },
  {
   "cell_type": "code",
   "execution_count": 43,
   "id": "a2afaa5f",
   "metadata": {},
   "outputs": [],
   "source": [
    "crosstab9.to_clipboard()"
   ]
  },
  {
   "cell_type": "code",
   "execution_count": 44,
   "id": "fa78ce38",
   "metadata": {},
   "outputs": [],
   "source": [
    "crosstab=pd.crosstab(df['IncomeClass'], df['PriceRange'], dropna=False)"
   ]
  },
  {
   "cell_type": "code",
   "execution_count": 45,
   "id": "38e0e2e0",
   "metadata": {},
   "outputs": [],
   "source": [
    "crosstab.to_clipboard()"
   ]
  },
  {
   "cell_type": "code",
   "execution_count": null,
   "id": "7faab513",
   "metadata": {},
   "outputs": [],
   "source": []
  }
 ],
 "metadata": {
  "kernelspec": {
   "display_name": "Python 3 (ipykernel)",
   "language": "python",
   "name": "python3"
  },
  "language_info": {
   "codemirror_mode": {
    "name": "ipython",
    "version": 3
   },
   "file_extension": ".py",
   "mimetype": "text/x-python",
   "name": "python",
   "nbconvert_exporter": "python",
   "pygments_lexer": "ipython3",
   "version": "3.9.7"
  }
 },
 "nbformat": 4,
 "nbformat_minor": 5
}
